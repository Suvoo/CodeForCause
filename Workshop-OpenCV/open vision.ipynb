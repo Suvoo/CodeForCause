{
 "cells": [
  {
   "cell_type": "code",
   "execution_count": 1,
   "metadata": {},
   "outputs": [],
   "source": [
    "import cv2"
   ]
  },
  {
   "cell_type": "code",
   "execution_count": 5,
   "metadata": {},
   "outputs": [],
   "source": [
    "cap = cv2.VideoCapture(0)\n",
    "classifier = cv2.CascadeClassifier(\"haarcascade_frontalface_default.xml\")\n",
    "\n",
    "while True:\n",
    "    ret, image = cap.read()\n",
    "    if ret:\n",
    "        \n",
    "        faces = classifier.detectMultiScale(image) #to find all available faces\n",
    "        for face in faces:\n",
    "            x,y,w,h = face\n",
    "            gen = cv2.rectangle(image, (x,y), (x+w,y+h), (255,0,0), 3) \n",
    "        cv2.imshow(\"My Camera\", image)\n",
    "        \n",
    "        #face = image[15:110,60:160]  just to test manual cropping\n",
    "        #cv2.imshow(\"Face\", face)\n",
    "    \n",
    "    key = cv2.waitKey(1) #frames updte in 1ms\n",
    "    #print(type(image)) all numpy arrays\n",
    "    \n",
    "    if key == ord(\"q\"):\n",
    "        break\n",
    "    if key == ord(\"c\"):\n",
    "        cv2.imwrite(\"mycam.png\",image)\n",
    "cap.release()\n",
    "cv2.destroyAllWindows()"
   ]
  },
  {
   "cell_type": "code",
   "execution_count": null,
   "metadata": {},
   "outputs": [],
   "source": []
  }
 ],
 "metadata": {
  "kernelspec": {
   "display_name": "Python 3",
   "language": "python",
   "name": "python3"
  },
  "language_info": {
   "codemirror_mode": {
    "name": "ipython",
    "version": 3
   },
   "file_extension": ".py",
   "mimetype": "text/x-python",
   "name": "python",
   "nbconvert_exporter": "python",
   "pygments_lexer": "ipython3",
   "version": "3.7.6"
  }
 },
 "nbformat": 4,
 "nbformat_minor": 4
}
