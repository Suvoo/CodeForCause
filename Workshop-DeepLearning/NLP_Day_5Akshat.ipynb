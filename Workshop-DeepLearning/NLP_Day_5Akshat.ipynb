{
  "nbformat": 4,
  "nbformat_minor": 0,
  "metadata": {
    "colab": {
      "name": "NLP Day 5(Akshat).ipynb",
      "provenance": [],
      "collapsed_sections": []
    },
    "kernelspec": {
      "name": "python3",
      "display_name": "Python 3"
    }
  },
  "cells": [
    {
      "cell_type": "markdown",
      "metadata": {
        "id": "sl4UX_lXYbpV"
      },
      "source": [
        "# Part of Speech \n",
        "Converting a sentence to forms – list of words, list of tuples (where each tuple is having a form (word, tag)). The tag in case of is a part-of-speech tag, and signifies whether the word is a noun, adjective, verb, and so on.\n",
        "\n"
      ]
    },
    {
      "cell_type": "markdown",
      "metadata": {
        "id": "qAnvOtRjRo0P"
      },
      "source": [
        "A part-of-speech tagger, or POS-tagger, processes a sequence of words, and attaches a part of speech tag to each word (don't forget to import nltk):"
      ]
    },
    {
      "cell_type": "code",
      "metadata": {
        "colab": {
          "base_uri": "https://localhost:8080/"
        },
        "id": "TEVYVc47k1tY",
        "outputId": "93fee12b-e92b-4012-906b-827db7d813ad"
      },
      "source": [
        "nltk.download('averaged_perceptron_tagger') #Download this module which required in word tagging"
      ],
      "execution_count": null,
      "outputs": [
        {
          "output_type": "stream",
          "text": [
            "[nltk_data] Downloading package averaged_perceptron_tagger to\n",
            "[nltk_data]     /root/nltk_data...\n",
            "[nltk_data]   Unzipping taggers/averaged_perceptron_tagger.zip.\n"
          ],
          "name": "stdout"
        },
        {
          "output_type": "execute_result",
          "data": {
            "text/plain": [
              "True"
            ]
          },
          "metadata": {
            "tags": []
          },
          "execution_count": 15
        }
      ]
    },
    {
      "cell_type": "code",
      "metadata": {
        "id": "vs6O4ONSnrek",
        "colab": {
          "base_uri": "https://localhost:8080/"
        },
        "outputId": "9512b211-beff-4c5c-a2c2-068cc4094ad3"
      },
      "source": [
        "from nltk import pos_tag\n",
        "from nltk.tokenize import word_tokenize\n",
        "\n",
        "\n",
        "\n",
        "sentence =  word_tokenize(\"And now for something completely different\")   # Tag parts of speech (PoS)\n",
        "\n",
        "print(pos_tag(sentence))"
      ],
      "execution_count": null,
      "outputs": [
        {
          "output_type": "stream",
          "text": [
            "[('And', 'CC'), ('now', 'RB'), ('for', 'IN'), ('something', 'NN'), ('completely', 'RB'), ('different', 'JJ')]\n"
          ],
          "name": "stdout"
        }
      ]
    },
    {
      "cell_type": "markdown",
      "metadata": {
        "id": "tQ85yVOgRZzh"
      },
      "source": [
        "Note: Here we see that and is CC, a coordinating conjunction; now and completely are RB, or adverbs; for is IN, a preposition; something is NN, a noun; and different is JJ, an adjective.\n",
        "\n",
        "You can refer to the NLTK documentation for more details.\n"
      ]
    },
    {
      "cell_type": "markdown",
      "metadata": {
        "id": "elW8ce-VXFdO"
      },
      "source": [
        "# N-gram\n",
        "N-Grams allows us to predict the next words of a text followed build this text mining forecasting model.\n"
      ]
    },
    {
      "cell_type": "code",
      "metadata": {
        "colab": {
          "base_uri": "https://localhost:8080/"
        },
        "id": "n3C_tL0nDtws",
        "outputId": "55e2e572-608a-490d-e4a8-7bf8544b70d4"
      },
      "source": [
        "from nltk.util import ngrams\n",
        "from collections import Counter\n",
        "\n",
        "text    = 'FinTech is a publication'\n",
        "grams_1 = ngrams(nltk.word_tokenize(text), 1) # prints 1 gram as an output\n",
        "grams_2 = ngrams(nltk.word_tokenize(text), 2) # prints 2 grams as an output\n",
        "grams_3 = ngrams(nltk.word_tokenize(text), 3) # prints 3 grams as an output and so on\n",
        "\n",
        "for i in grams_1:\n",
        "\n",
        "   print(i)\n",
        "\n",
        "print(\"--------------------------------\")   \n",
        "\n",
        "\n",
        "for i in grams_2:\n",
        "\n",
        "   print(i)\n",
        "\n",
        "print(\"--------------------------------\")   \n",
        "\n",
        "for i in grams_3:\n",
        "\n",
        "   print(i)      "
      ],
      "execution_count": null,
      "outputs": [
        {
          "output_type": "stream",
          "text": [
            "('FinTech',)\n",
            "('is',)\n",
            "('a',)\n",
            "('publication',)\n",
            "--------------------------------\n",
            "('FinTech', 'is')\n",
            "('is', 'a')\n",
            "('a', 'publication')\n",
            "--------------------------------\n",
            "('FinTech', 'is', 'a')\n",
            "('is', 'a', 'publication')\n"
          ],
          "name": "stdout"
        }
      ]
    },
    {
      "cell_type": "markdown",
      "metadata": {
        "id": "3bWKPhcOg8vx"
      },
      "source": [
        "# Named Entity Recognition\n",
        "\n",
        "Basically its a part of information extraction process.\n",
        "\n",
        "How information extraction happens!<br>\n",
        "**STEP 1:** The raw text of the document is split into sentences using a sentence segmentation.<br>\n",
        "**STEP 2:** Each sentence is further subdivided into words using a tokenization.<br>\n",
        "**STEP 3:** Each sentence is tagged with part-of-speech tags, which will prove very helpful in the next step, **named entity detection** .<br>\n",
        "**STEP 4**: In this step, we search for mentions of potentially interesting entities in each sentence.<br>\n",
        "STEP 5: we use **relation detection** to search for likely relations between different entities in the text.<br>"
      ]
    },
    {
      "cell_type": "markdown",
      "metadata": {
        "id": "ZLF71gWnn3sR"
      },
      "source": [
        "![image.png](data:image/png;base64,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)"
      ]
    },
    {
      "cell_type": "code",
      "metadata": {
        "colab": {
          "base_uri": "https://localhost:8080/"
        },
        "id": "_hqCN8BDS1qS",
        "outputId": "796b1209-4c94-4fb7-a23d-2b5d8c0b73d8"
      },
      "source": [
        "sentence  = [(\"the\", \"DT\"), (\"little\", \"JJ\"), (\"yellow\", \"JJ\"),(\"dog\", \"NN\"), (\"barked\", \"VBD\"), (\"at\", \"IN\"),  (\"the\", \"DT\"), (\"cat\", \"NN\")]\n",
        "\n",
        "grammar   = \"NP: {<DT>?<JJ>*<NN>}\"\n",
        "\n",
        "cp        = nltk.RegexpParser(grammar)\n",
        "result    = cp.parse(sentence)\n",
        "\n",
        "print(result)"
      ],
      "execution_count": null,
      "outputs": [
        {
          "output_type": "stream",
          "text": [
            "(S\n",
            "  (NP the/DT little/JJ yellow/JJ dog/NN)\n",
            "  barked/VBD\n",
            "  at/IN\n",
            "  (NP the/DT cat/NN))\n"
          ],
          "name": "stdout"
        }
      ]
    },
    {
      "cell_type": "markdown",
      "metadata": {
        "id": "HhVLMzVCnkHU"
      },
      "source": [
        "By running in result.draw() on your local machine it will give a nice graph like structure based on the result variable\n",
        "\n",
        "![image.png](data:image/png;base64,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)"
      ]
    },
    {
      "cell_type": "markdown",
      "metadata": {
        "id": "VZagjEnOypRE"
      },
      "source": [
        "# **Bag of words**\n",
        "\n",
        "Whenever we apply any algorithm in NLP, it works on numbers. We cannot directly feed our text into that algorithm. Hence, Bag of Words model is used to preprocess the text by converting it into a bag of words, which keeps a count of the total occurrences of most frequently used words.\n",
        "\n",
        "The bag-of-words (BOW) model is a representation that turns arbitrary text into fixed-length vectors by counting how many times each word appears. This process is often referred to as vectorization.\n"
      ]
    },
    {
      "cell_type": "code",
      "metadata": {
        "colab": {
          "base_uri": "https://localhost:8080/"
        },
        "id": "1w_GOuhL1IbC",
        "outputId": "c5b4c048-9d6a-4e79-d95e-e979cf5dd8c5"
      },
      "source": [
        "from keras.preprocessing.text import Tokenizer\n",
        "\n",
        "docs  = [\n",
        "  'the cat sat',\n",
        "  'the cat sat in the hat',\n",
        "  'the cat with the hat',\n",
        "]\n",
        "\n",
        "## Step 1: Determine the Vocabulary\n",
        "tokenizer = Tokenizer()\n",
        "tokenizer.fit_on_texts(docs)\n",
        "\n",
        "print(f'Vocabulary: {list(tokenizer.word_index.keys())}')\n",
        "\n",
        "## Step 2: Count\n",
        "vectors = tokenizer.texts_to_matrix(docs, mode='count')\n",
        "print(vectors)"
      ],
      "execution_count": null,
      "outputs": [
        {
          "output_type": "stream",
          "text": [
            "Vocabulary: ['the', 'cat', 'sat', 'hat', 'in', 'with']\n",
            "[[0. 1. 1. 1. 0. 0. 0.]\n",
            " [0. 2. 1. 1. 1. 1. 0.]\n",
            " [0. 2. 1. 0. 1. 0. 1.]]\n"
          ],
          "name": "stdout"
        }
      ]
    },
    {
      "cell_type": "markdown",
      "metadata": {
        "id": "Tz1KHCvD2Nt1"
      },
      "source": [
        "# **TF-IDF**\n",
        "\n",
        "Tf-idf is one of the best metrics to determine how significant a term is to a text in a series or a corpus. tf-idf is a weighting system that assigns a weight to each word in a document based on its term frequency (tf) and the reciprocal document frequency (tf) (idf). The words with higher scores of weight are deemed to be more significant.\n",
        "\n",
        "Usually, the tf-idf weight consists of two terms-\n",
        "\n",
        "Normalized Term Frequency (tf)<br>\n",
        "Inverse Document Frequency (idf)<br>\n",
        "\n",
        "```tf-idf(t, d) = tf(t, d) * idf(t)```"
      ]
    },
    {
      "cell_type": "code",
      "metadata": {
        "colab": {
          "base_uri": "https://localhost:8080/"
        },
        "id": "XrPxzpSq1hP0",
        "outputId": "f5bc7622-046d-4a5c-ad8b-e99882863e8f"
      },
      "source": [
        "import pandas as pd\n",
        "from sklearn.feature_extraction.text import TfidfVectorizer\n",
        "\n",
        "data = {\n",
        "  'the cat sat',\n",
        "  'the cat sat in the hat',\n",
        "  'the cat with the hat',}\n",
        "\n",
        "vectoriser = TfidfVectorizer()\n",
        "vec        = vectoriser.fit_transform(data)\n",
        "df         = pd.DataFrame(vec.toarray().transpose(), index = vectoriser.get_feature_names()\n",
        "\n",
        "print(df)"
      ],
      "execution_count": null,
      "outputs": [
        {
          "output_type": "stream",
          "text": [
            "             0         1         2\n",
            "cat   0.522842  0.299034  0.324019\n",
            "hat   0.000000  0.385061  0.417233\n",
            "in    0.000000  0.506309  0.000000\n",
            "sat   0.673255  0.385061  0.000000\n",
            "the   0.522842  0.598068  0.648038\n",
            "with  0.000000  0.000000  0.548612\n"
          ],
          "name": "stdout"
        }
      ]
    },
    {
      "cell_type": "markdown",
      "metadata": {
        "id": "JtrxMVtC7-xl"
      },
      "source": [
        "# **Summary of NLP pipeline**\n",
        "\n",
        "Spam Filter using NLP"
      ]
    },
    {
      "cell_type": "markdown",
      "metadata": {
        "id": "qwuPFwpCLiLd"
      },
      "source": [
        "Let us take an example dataset of an SMS Spam Collection which also has a label on it that classifies it as spam or not.\n",
        "\n",
        "Firstly , we load our dataset into our drive & then use pandas to import it in the form of a dataframe."
      ]
    },
    {
      "cell_type": "code",
      "metadata": {
        "colab": {
          "base_uri": "https://localhost:8080/",
          "height": 204
        },
        "id": "tFXW4BiR62Jm",
        "outputId": "e8706688-2046-4f16-9b73-6ca41b363572"
      },
      "source": [
        "import pandas as pd\n",
        "\n",
        "df = pd.read_table('/content/drive/MyDrive/Colab Notebooks/smsspamcollection/SMSSpamCollection', # Dataset from - https://archive.ics.uci.edu/ml/datasets/SMS+Spam+Collection\n",
        "                   sep='\\t', \n",
        "                   header=None, \n",
        "                   names=['label', 'sms_message'])\n",
        "\n",
        "# Output printing out first 5 rows\n",
        "df.head()"
      ],
      "execution_count": null,
      "outputs": [
        {
          "output_type": "execute_result",
          "data": {
            "text/html": [
              "<div>\n",
              "<style scoped>\n",
              "    .dataframe tbody tr th:only-of-type {\n",
              "        vertical-align: middle;\n",
              "    }\n",
              "\n",
              "    .dataframe tbody tr th {\n",
              "        vertical-align: top;\n",
              "    }\n",
              "\n",
              "    .dataframe thead th {\n",
              "        text-align: right;\n",
              "    }\n",
              "</style>\n",
              "<table border=\"1\" class=\"dataframe\">\n",
              "  <thead>\n",
              "    <tr style=\"text-align: right;\">\n",
              "      <th></th>\n",
              "      <th>label</th>\n",
              "      <th>sms_message</th>\n",
              "    </tr>\n",
              "  </thead>\n",
              "  <tbody>\n",
              "    <tr>\n",
              "      <th>0</th>\n",
              "      <td>ham</td>\n",
              "      <td>Go until jurong point, crazy.. Available only ...</td>\n",
              "    </tr>\n",
              "    <tr>\n",
              "      <th>1</th>\n",
              "      <td>ham</td>\n",
              "      <td>Ok lar... Joking wif u oni...</td>\n",
              "    </tr>\n",
              "    <tr>\n",
              "      <th>2</th>\n",
              "      <td>spam</td>\n",
              "      <td>Free entry in 2 a wkly comp to win FA Cup fina...</td>\n",
              "    </tr>\n",
              "    <tr>\n",
              "      <th>3</th>\n",
              "      <td>ham</td>\n",
              "      <td>U dun say so early hor... U c already then say...</td>\n",
              "    </tr>\n",
              "    <tr>\n",
              "      <th>4</th>\n",
              "      <td>ham</td>\n",
              "      <td>Nah I don't think he goes to usf, he lives aro...</td>\n",
              "    </tr>\n",
              "  </tbody>\n",
              "</table>\n",
              "</div>"
            ],
            "text/plain": [
              "  label                                        sms_message\n",
              "0   ham  Go until jurong point, crazy.. Available only ...\n",
              "1   ham                      Ok lar... Joking wif u oni...\n",
              "2  spam  Free entry in 2 a wkly comp to win FA Cup fina...\n",
              "3   ham  U dun say so early hor... U c already then say...\n",
              "4   ham  Nah I don't think he goes to usf, he lives aro..."
            ]
          },
          "metadata": {
            "tags": []
          },
          "execution_count": 59
        }
      ]
    },
    {
      "cell_type": "markdown",
      "metadata": {
        "id": "-JKt1cKQo2ba"
      },
      "source": [
        "Here we can see the labels are either \"ham\" or \"spam\". So, we will label encode these into 0 & 1 respectively."
      ]
    },
    {
      "cell_type": "code",
      "metadata": {
        "colab": {
          "base_uri": "https://localhost:8080/",
          "height": 221
        },
        "id": "qLIEMJkLDZis",
        "outputId": "81b124b5-a57d-4859-e88c-abdc976684f6"
      },
      "source": [
        "df['label'] = df.label.map({'ham':0, 'spam':1})\n",
        "\n",
        "print(df.shape)\n",
        "\n",
        "df.head()                   # returns (rows, columns)"
      ],
      "execution_count": null,
      "outputs": [
        {
          "output_type": "stream",
          "text": [
            "(5572, 2)\n"
          ],
          "name": "stdout"
        },
        {
          "output_type": "execute_result",
          "data": {
            "text/html": [
              "<div>\n",
              "<style scoped>\n",
              "    .dataframe tbody tr th:only-of-type {\n",
              "        vertical-align: middle;\n",
              "    }\n",
              "\n",
              "    .dataframe tbody tr th {\n",
              "        vertical-align: top;\n",
              "    }\n",
              "\n",
              "    .dataframe thead th {\n",
              "        text-align: right;\n",
              "    }\n",
              "</style>\n",
              "<table border=\"1\" class=\"dataframe\">\n",
              "  <thead>\n",
              "    <tr style=\"text-align: right;\">\n",
              "      <th></th>\n",
              "      <th>label</th>\n",
              "      <th>sms_message</th>\n",
              "    </tr>\n",
              "  </thead>\n",
              "  <tbody>\n",
              "    <tr>\n",
              "      <th>0</th>\n",
              "      <td>0</td>\n",
              "      <td>Go until jurong point, crazy.. Available only ...</td>\n",
              "    </tr>\n",
              "    <tr>\n",
              "      <th>1</th>\n",
              "      <td>0</td>\n",
              "      <td>Ok lar... Joking wif u oni...</td>\n",
              "    </tr>\n",
              "    <tr>\n",
              "      <th>2</th>\n",
              "      <td>1</td>\n",
              "      <td>Free entry in 2 a wkly comp to win FA Cup fina...</td>\n",
              "    </tr>\n",
              "    <tr>\n",
              "      <th>3</th>\n",
              "      <td>0</td>\n",
              "      <td>U dun say so early hor... U c already then say...</td>\n",
              "    </tr>\n",
              "    <tr>\n",
              "      <th>4</th>\n",
              "      <td>0</td>\n",
              "      <td>Nah I don't think he goes to usf, he lives aro...</td>\n",
              "    </tr>\n",
              "  </tbody>\n",
              "</table>\n",
              "</div>"
            ],
            "text/plain": [
              "   label                                        sms_message\n",
              "0      0  Go until jurong point, crazy.. Available only ...\n",
              "1      0                      Ok lar... Joking wif u oni...\n",
              "2      1  Free entry in 2 a wkly comp to win FA Cup fina...\n",
              "3      0  U dun say so early hor... U c already then say...\n",
              "4      0  Nah I don't think he goes to usf, he lives aro..."
            ]
          },
          "metadata": {
            "tags": []
          },
          "execution_count": 60
        }
      ]
    },
    {
      "cell_type": "markdown",
      "metadata": {
        "id": "N6pP-gsapAgv"
      },
      "source": [
        "### **Preprocessing**\n",
        "\n",
        "Here we perform the basic techniques of preprocessing that we learnt a while ago. Let has have a look at them again"
      ]
    },
    {
      "cell_type": "code",
      "metadata": {
        "colab": {
          "base_uri": "https://localhost:8080/"
        },
        "id": "AcIZrPJcDeyp",
        "outputId": "e3b9498f-80f3-473f-d7f2-8c9697969740"
      },
      "source": [
        "documents = ['Hello, how are you!',\n",
        "             'Win money, win from home.',\n",
        "             'Call me now.',\n",
        "             'Hello, Call hello you tomorrow?']\n",
        "\n",
        "lower_case_documents = []\n",
        "\n",
        "for i in documents:\n",
        "\n",
        "    lower_case_documents.append(i.lower())\n",
        "    \n",
        "print(lower_case_documents)"
      ],
      "execution_count": null,
      "outputs": [
        {
          "output_type": "stream",
          "text": [
            "['hello, how are you!', 'win money, win from home.', 'call me now.', 'hello, call hello you tomorrow?']\n"
          ],
          "name": "stdout"
        }
      ]
    },
    {
      "cell_type": "code",
      "metadata": {
        "colab": {
          "base_uri": "https://localhost:8080/"
        },
        "id": "Ea5SymC_DmdA",
        "outputId": "eab3d3de-3486-4a61-a379-68c64e0723ba"
      },
      "source": [
        "import string\n",
        "\n",
        "sans_punctuation_documents = []\n",
        "\n",
        "\n",
        "for i in lower_case_documents:\n",
        "\n",
        "    sans_punctuation_documents.append(i.translate(str.maketrans('', '', string.punctuation)))\n",
        "    \n",
        "print(sans_punctuation_documents)"
      ],
      "execution_count": null,
      "outputs": [
        {
          "output_type": "stream",
          "text": [
            "['hello how are you', 'win money win from home', 'call me now', 'hello call hello you tomorrow']\n"
          ],
          "name": "stdout"
        }
      ]
    },
    {
      "cell_type": "markdown",
      "metadata": {
        "id": "jUN34ag0pMtP"
      },
      "source": [
        "Now , we find the Frequency of each word using Counter library"
      ]
    },
    {
      "cell_type": "code",
      "metadata": {
        "colab": {
          "base_uri": "https://localhost:8080/"
        },
        "id": "xwNvezDQDsOI",
        "outputId": "18d3b1bb-cc81-407a-9965-40896f24159d"
      },
      "source": [
        "import pprint\n",
        "from collections import Counter\n",
        "\n",
        "frequency_list = []\n",
        "\n",
        "for i in preprocessed_documents:\n",
        "\n",
        "    frequency_counts = Counter(i)\n",
        "    frequency_list.append(frequency_counts)\n",
        "\n",
        "pprint.pprint(frequency_list)"
      ],
      "execution_count": null,
      "outputs": [
        {
          "output_type": "stream",
          "text": [
            "[Counter({'hello': 1, 'how': 1, 'are': 1, 'you': 1}),\n",
            " Counter({'win': 2, 'money': 1, 'from': 1, 'home': 1}),\n",
            " Counter({'call': 1, 'me': 1, 'now': 1}),\n",
            " Counter({'hello': 2, 'call': 1, 'you': 1, 'tomorrow': 1})]\n"
          ],
          "name": "stdout"
        }
      ]
    },
    {
      "cell_type": "code",
      "metadata": {
        "id": "WZ3dNJYCDvgV"
      },
      "source": [
        "documents = ['Hello, how are you!',\n",
        "                'Win money, win from home.',\n",
        "                'Call me now.',\n",
        "                'Hello, Call hello you tomorrow?']"
      ],
      "execution_count": null,
      "outputs": []
    },
    {
      "cell_type": "markdown",
      "metadata": {
        "id": "eIVdYSEzpbS3"
      },
      "source": [
        "\n",
        "\n",
        "\n",
        "we implemented a version of the CountVectorizer() method from scratch that entailed cleaning our data first. This cleaning involved converting all of our data to lower case and removing all punctuation marks. CountVectorizer() has certain parameters which take care of these steps for us. They are:\n",
        "\n",
        "lowercase = True\n",
        "\n",
        "The lowercase parameter has a default value of True which converts all of our text to its lower case form.\n",
        "\n",
        "token_pattern = (?u)\\\\b\\\\w\\\\w+\\\\b\n",
        "\n",
        "The token_pattern parameter has a default regular expression value of (?u)\\\\b\\\\w\\\\w+\\\\b which ignores all punctuation marks and treats them as delimiters, while accepting alphanumeric strings of length greater than or equal to 2, as individual tokens or words.\n",
        "\n",
        "stop_words\n",
        "\n",
        "The stop_words parameter, if set to english will remove all words from our document set that match a list of English stop words which is defined in scikit-learn. Considering the size of our dataset and the fact that we are dealing with SMS messages and not larger text sources like e-mail, we will not be setting this parameter value."
      ]
    },
    {
      "cell_type": "code",
      "metadata": {
        "id": "R0zDhNw3Dy3z"
      },
      "source": [
        "from sklearn.feature_extraction.text import CountVectorizer\n",
        "\n",
        "count_vector = CountVectorizer()"
      ],
      "execution_count": null,
      "outputs": []
    },
    {
      "cell_type": "code",
      "metadata": {
        "colab": {
          "base_uri": "https://localhost:8080/"
        },
        "id": "TkgsTydbD2Sy",
        "outputId": "f3402842-ccb5-469b-e692-dd2d638d15a7"
      },
      "source": [
        "print(count_vector)"
      ],
      "execution_count": null,
      "outputs": [
        {
          "output_type": "stream",
          "text": [
            "CountVectorizer(analyzer='word', binary=False, decode_error='strict',\n",
            "                dtype=<class 'numpy.int64'>, encoding='utf-8', input='content',\n",
            "                lowercase=True, max_df=1.0, max_features=None, min_df=1,\n",
            "                ngram_range=(1, 1), preprocessor=None, stop_words=None,\n",
            "                strip_accents=None, token_pattern='(?u)\\\\b\\\\w\\\\w+\\\\b',\n",
            "                tokenizer=None, vocabulary=None)\n"
          ],
          "name": "stdout"
        }
      ]
    },
    {
      "cell_type": "markdown",
      "metadata": {
        "id": "2G5UdGtbpgxi"
      },
      "source": [
        "For example , we can see previously , we used our list called -> **Documents**. After implementing we observe the features."
      ]
    },
    {
      "cell_type": "code",
      "metadata": {
        "colab": {
          "base_uri": "https://localhost:8080/"
        },
        "id": "aQXnR72oD7dB",
        "outputId": "1190bf06-7bbb-43d9-8f15-1bfe1ef7f219"
      },
      "source": [
        "count_vector.fit(documents)\n",
        "count_vector.get_feature_names()"
      ],
      "execution_count": null,
      "outputs": [
        {
          "output_type": "execute_result",
          "data": {
            "text/plain": [
              "['are',\n",
              " 'call',\n",
              " 'from',\n",
              " 'hello',\n",
              " 'home',\n",
              " 'how',\n",
              " 'me',\n",
              " 'money',\n",
              " 'now',\n",
              " 'tomorrow',\n",
              " 'win',\n",
              " 'you']"
            ]
          },
          "metadata": {
            "tags": []
          },
          "execution_count": 69
        }
      ]
    },
    {
      "cell_type": "markdown",
      "metadata": {
        "id": "mbsqPOEapv1S"
      },
      "source": [
        "Now let us find the frequency matrix for each word & print it out through a pandas dataframe."
      ]
    },
    {
      "cell_type": "code",
      "metadata": {
        "colab": {
          "base_uri": "https://localhost:8080/"
        },
        "id": "LUoV_CRgD96Y",
        "outputId": "acf12c3a-8b71-4abb-c82b-3f2044504c70"
      },
      "source": [
        "doc_array = count_vector.transform(documents).toarray()\n",
        "doc_array"
      ],
      "execution_count": null,
      "outputs": [
        {
          "output_type": "execute_result",
          "data": {
            "text/plain": [
              "array([[1, 0, 0, 1, 0, 1, 0, 0, 0, 0, 0, 1],\n",
              "       [0, 0, 1, 0, 1, 0, 0, 1, 0, 0, 2, 0],\n",
              "       [0, 1, 0, 0, 0, 0, 1, 0, 1, 0, 0, 0],\n",
              "       [0, 1, 0, 2, 0, 0, 0, 0, 0, 1, 0, 1]])"
            ]
          },
          "metadata": {
            "tags": []
          },
          "execution_count": 70
        }
      ]
    },
    {
      "cell_type": "code",
      "metadata": {
        "colab": {
          "base_uri": "https://localhost:8080/",
          "height": 173
        },
        "id": "YGb1-AENEClI",
        "outputId": "f0d6a346-0972-4f63-83fc-31bd260f85b8"
      },
      "source": [
        "frequency_matrix = pd.DataFrame(doc_array, \n",
        "                                columns = count_vector.get_feature_names())\n",
        "frequency_matrix"
      ],
      "execution_count": null,
      "outputs": [
        {
          "output_type": "execute_result",
          "data": {
            "text/html": [
              "<div>\n",
              "<style scoped>\n",
              "    .dataframe tbody tr th:only-of-type {\n",
              "        vertical-align: middle;\n",
              "    }\n",
              "\n",
              "    .dataframe tbody tr th {\n",
              "        vertical-align: top;\n",
              "    }\n",
              "\n",
              "    .dataframe thead th {\n",
              "        text-align: right;\n",
              "    }\n",
              "</style>\n",
              "<table border=\"1\" class=\"dataframe\">\n",
              "  <thead>\n",
              "    <tr style=\"text-align: right;\">\n",
              "      <th></th>\n",
              "      <th>are</th>\n",
              "      <th>call</th>\n",
              "      <th>from</th>\n",
              "      <th>hello</th>\n",
              "      <th>home</th>\n",
              "      <th>how</th>\n",
              "      <th>me</th>\n",
              "      <th>money</th>\n",
              "      <th>now</th>\n",
              "      <th>tomorrow</th>\n",
              "      <th>win</th>\n",
              "      <th>you</th>\n",
              "    </tr>\n",
              "  </thead>\n",
              "  <tbody>\n",
              "    <tr>\n",
              "      <th>0</th>\n",
              "      <td>1</td>\n",
              "      <td>0</td>\n",
              "      <td>0</td>\n",
              "      <td>1</td>\n",
              "      <td>0</td>\n",
              "      <td>1</td>\n",
              "      <td>0</td>\n",
              "      <td>0</td>\n",
              "      <td>0</td>\n",
              "      <td>0</td>\n",
              "      <td>0</td>\n",
              "      <td>1</td>\n",
              "    </tr>\n",
              "    <tr>\n",
              "      <th>1</th>\n",
              "      <td>0</td>\n",
              "      <td>0</td>\n",
              "      <td>1</td>\n",
              "      <td>0</td>\n",
              "      <td>1</td>\n",
              "      <td>0</td>\n",
              "      <td>0</td>\n",
              "      <td>1</td>\n",
              "      <td>0</td>\n",
              "      <td>0</td>\n",
              "      <td>2</td>\n",
              "      <td>0</td>\n",
              "    </tr>\n",
              "    <tr>\n",
              "      <th>2</th>\n",
              "      <td>0</td>\n",
              "      <td>1</td>\n",
              "      <td>0</td>\n",
              "      <td>0</td>\n",
              "      <td>0</td>\n",
              "      <td>0</td>\n",
              "      <td>1</td>\n",
              "      <td>0</td>\n",
              "      <td>1</td>\n",
              "      <td>0</td>\n",
              "      <td>0</td>\n",
              "      <td>0</td>\n",
              "    </tr>\n",
              "    <tr>\n",
              "      <th>3</th>\n",
              "      <td>0</td>\n",
              "      <td>1</td>\n",
              "      <td>0</td>\n",
              "      <td>2</td>\n",
              "      <td>0</td>\n",
              "      <td>0</td>\n",
              "      <td>0</td>\n",
              "      <td>0</td>\n",
              "      <td>0</td>\n",
              "      <td>1</td>\n",
              "      <td>0</td>\n",
              "      <td>1</td>\n",
              "    </tr>\n",
              "  </tbody>\n",
              "</table>\n",
              "</div>"
            ],
            "text/plain": [
              "   are  call  from  hello  home  how  me  money  now  tomorrow  win  you\n",
              "0    1     0     0      1     0    1   0      0    0         0    0    1\n",
              "1    0     0     1      0     1    0   0      1    0         0    2    0\n",
              "2    0     1     0      0     0    0   1      0    1         0    0    0\n",
              "3    0     1     0      2     0    0   0      0    0         1    0    1"
            ]
          },
          "metadata": {
            "tags": []
          },
          "execution_count": 71
        }
      ]
    },
    {
      "cell_type": "markdown",
      "metadata": {
        "id": "l0HHMC4Tp8JI"
      },
      "source": [
        "Interesting right? \n",
        "Now that we have got a basic intuition of how it looks like , let us apply it to our dataset & see how it pans out.\n",
        "\n",
        "\n",
        "Firstly , we will distribute our dataset into test & train. \n",
        "After that we will see the number of rows for each"
      ]
    },
    {
      "cell_type": "markdown",
      "metadata": {
        "id": "hXXmrnVqK4ex"
      },
      "source": [
        "Now that we have understood how to deal with the Bag of Words problem we can get back to our dataset and proceed with our analysis. Our first step in this regard would be to split our dataset into a training and testing set so we can test our model later"
      ]
    },
    {
      "cell_type": "code",
      "metadata": {
        "colab": {
          "base_uri": "https://localhost:8080/"
        },
        "id": "qDfMJ89pEFyh",
        "outputId": "5acd0344-f180-49a0-f8dc-06a491750ebe"
      },
      "source": [
        "# split into training and testing sets\n",
        "# USE from sklearn.model_selection import train_test_split to avoid seeing deprecation warning.\n",
        " \n",
        "from sklearn.model_selection import train_test_split\n",
        " \n",
        "X_train, X_test, y_train, y_test = train_test_split(df['sms_message'], \n",
        "                                                    df['label'], \n",
        "                                                    random_state=1)\n",
        " \n",
        "print('Number of rows in the total set: {}'.format(df.shape[0]))\n",
        "print('Number of rows in the training set: {}'.format(X_train.shape[0]))\n",
        "print('Number of rows in the test set: {}'.format(X_test.shape[0]))"
      ],
      "execution_count": null,
      "outputs": [
        {
          "output_type": "stream",
          "text": [
            "Number of rows in the total set: 5572\n",
            "Number of rows in the training set: 4179\n",
            "Number of rows in the test set: 1393\n"
          ],
          "name": "stdout"
        }
      ]
    },
    {
      "cell_type": "markdown",
      "metadata": {
        "id": "PLah_DYWqRcY"
      },
      "source": [
        "Great, now that we have that, we can implement our CountVectorizer & fit it to train from our **\" X_train**"
      ]
    },
    {
      "cell_type": "code",
      "metadata": {
        "id": "cFrZTW7aEJsq"
      },
      "source": [
        "# Instantiate the CountVectorizer method\n",
        "count_vector = CountVectorizer()\n",
        "\n",
        "# Fit the training data and then return the matrix\n",
        "training_data = count_vector.fit_transform(X_train)\n",
        "\n",
        "# Transform testing data and return the matrix. Note we are not fitting the testing data into the CountVectorizer()\n",
        "testing_data = count_vector.transform(X_test)"
      ],
      "execution_count": null,
      "outputs": []
    },
    {
      "cell_type": "markdown",
      "metadata": {
        "id": "w5vCgsuJqmVv"
      },
      "source": [
        "I am going to be using a Simple Machine Learning algorithm called **Naive Bayes** for our classification problem."
      ]
    },
    {
      "cell_type": "code",
      "metadata": {
        "colab": {
          "base_uri": "https://localhost:8080/"
        },
        "id": "-itDam6dEtA2",
        "outputId": "90e08c3f-11e2-47e6-bfb9-060c2dd4e20a"
      },
      "source": [
        "from sklearn.naive_bayes import MultinomialNB\n",
        "\n",
        "naive_bayes = MultinomialNB()\n",
        "naive_bayes.fit(training_data, y_train)"
      ],
      "execution_count": null,
      "outputs": [
        {
          "output_type": "execute_result",
          "data": {
            "text/plain": [
              "MultinomialNB(alpha=1.0, class_prior=None, fit_prior=True)"
            ]
          },
          "metadata": {
            "tags": []
          },
          "execution_count": 75
        }
      ]
    },
    {
      "cell_type": "code",
      "metadata": {
        "id": "q7HREBv0FFPL"
      },
      "source": [
        "predictions = naive_bayes.predict(testing_data)"
      ],
      "execution_count": null,
      "outputs": []
    },
    {
      "cell_type": "markdown",
      "metadata": {
        "id": "ZhAg-5ZcqvFU"
      },
      "source": [
        "We will use some accuracy metrics to see how well our model performed\n",
        "\n",
        "**Accuracy -** Accuracy is the most intuitive performance measure and it is simply a ratio of correctly predicted observation to the total observations.\n",
        "\n",
        "**Precision -** Precision is the ratio of correctly predicted positive observations to the total predicted positive observations. \n",
        "\n",
        "\n",
        "**Recall -** Recall is the ratio of correctly predicted positive observations to the all observations in actual class.\n",
        "\n",
        "**F1 score -** F1 Score is the weighted average of Precision and Recall."
      ]
    },
    {
      "cell_type": "code",
      "metadata": {
        "colab": {
          "base_uri": "https://localhost:8080/"
        },
        "id": "ZAq3NdFKE6uQ",
        "outputId": "297024c7-1658-4692-d8cb-10a51e93ebb4"
      },
      "source": [
        "from sklearn.metrics import accuracy_score, precision_score, recall_score, f1_score\n",
        "\n",
        "print('Accuracy score: ', format(accuracy_score(y_test, predictions)))\n",
        "print('Precision score: ', format(precision_score(y_test, predictions)))\n",
        "print('Recall score: ', format(recall_score(y_test, predictions)))\n",
        "print('F1 score: ', format(f1_score(y_test, predictions)))"
      ],
      "execution_count": null,
      "outputs": [
        {
          "output_type": "stream",
          "text": [
            "Accuracy score:  0.9885139985642498\n",
            "Precision score:  0.9720670391061452\n",
            "Recall score:  0.9405405405405406\n",
            "F1 score:  0.9560439560439562\n"
          ],
          "name": "stdout"
        }
      ]
    },
    {
      "cell_type": "code",
      "metadata": {
        "id": "xba1cCyDFBSD"
      },
      "source": [
        ""
      ],
      "execution_count": null,
      "outputs": []
    }
  ]
}