{
  "nbformat": 4,
  "nbformat_minor": 0,
  "metadata": {
    "colab": {
      "name": "Comp. Multi -CLass NLP  | NLP Neures Day6",
      "provenance": [],
      "collapsed_sections": []
    },
    "kernelspec": {
      "name": "python3",
      "display_name": "Python 3"
    }
  },
  "cells": [
    {
      "cell_type": "markdown",
      "metadata": {
        "id": "AWib380aaQZk"
      },
      "source": [
        "#Comparing Various Models for Multi-Class Classification for NLP Based Task\n",
        "\n",
        "###Author - Harsh Sharma\n"
      ]
    },
    {
      "cell_type": "markdown",
      "metadata": {
        "id": "SkKLvP_2Y8R7"
      },
      "source": [
        "#Importing Important Libraries :"
      ]
    },
    {
      "cell_type": "code",
      "metadata": {
        "colab": {
          "base_uri": "https://localhost:8080/"
        },
        "id": "7vRaHd5c5DBS",
        "outputId": "a4768dcf-8be5-4942-c375-a59863295882"
      },
      "source": [
        "#Importing Important Libraries :\n",
        "import csv\n",
        "import tensorflow as tf\n",
        "import numpy as np\n",
        "import pandas as pd\n",
        "import matplotlib.pyplot as plt\n",
        "from tensorflow.keras.preprocessing.text import Tokenizer\n",
        "from tensorflow.keras.preprocessing.sequence import pad_sequences\n",
        "from tensorflow.keras.models import Sequential\n",
        "from tensorflow.keras.layers import Dense, Flatten, LSTM, Dropout, Activation, Embedding, Bidirectional,Conv1D,MaxPool1D,MaxPooling1D,GlobalMaxPooling1D\n",
        "from tensorflow.keras.callbacks import ModelCheckpoint,EarlyStopping\n",
        "from sklearn.metrics import accuracy_score, precision_score, recall_score, f1_score, confusion_matrix, classification_report\n",
        "from mlxtend.plotting import plot_confusion_matrix\n",
        "from sklearn.preprocessing import OneHotEncoder\n",
        "from sklearn.model_selection import train_test_split\n",
        "\n",
        "\n",
        "import nltk\n",
        "nltk.download('stopwords')\n",
        "from nltk.corpus import stopwords\n",
        "STOPWORDS = set(stopwords.words('english'))\n",
        "from nltk.stem import PorterStemmer\n",
        "import re\n",
        "nltk.download('punkt')\n",
        "\n",
        "!pip install prettytable\n",
        "from prettytable import PrettyTable\n",
        "\n",
        "\n",
        "import time\n",
        "\n"
      ],
      "execution_count": null,
      "outputs": [
        {
          "output_type": "stream",
          "text": [
            "[nltk_data] Downloading package stopwords to /root/nltk_data...\n",
            "[nltk_data]   Package stopwords is already up-to-date!\n",
            "[nltk_data] Downloading package punkt to /root/nltk_data...\n",
            "[nltk_data]   Package punkt is already up-to-date!\n",
            "Requirement already satisfied: prettytable in /usr/local/lib/python3.7/dist-packages (2.1.0)\n",
            "Requirement already satisfied: importlib-metadata; python_version < \"3.8\" in /usr/local/lib/python3.7/dist-packages (from prettytable) (3.7.2)\n",
            "Requirement already satisfied: wcwidth in /usr/local/lib/python3.7/dist-packages (from prettytable) (0.2.5)\n",
            "Requirement already satisfied: typing-extensions>=3.6.4; python_version < \"3.8\" in /usr/local/lib/python3.7/dist-packages (from importlib-metadata; python_version < \"3.8\"->prettytable) (3.7.4.3)\n",
            "Requirement already satisfied: zipp>=0.5 in /usr/local/lib/python3.7/dist-packages (from importlib-metadata; python_version < \"3.8\"->prettytable) (3.4.1)\n"
          ],
          "name": "stdout"
        }
      ]
    },
    {
      "cell_type": "code",
      "metadata": {
        "colab": {
          "base_uri": "https://localhost:8080/"
        },
        "id": "kFJwhL855DDI",
        "outputId": "858df801-c943-4964-bfd1-b2efca8a62aa"
      },
      "source": [
        "# Getting Dataset :\n",
        "!wget --no-check-certificate \\\n",
        "    https://storage.googleapis.com/dataset-uploader/bbc/bbc-text.csv \\\n",
        "    -O /tmp/bbc-text.csv"
      ],
      "execution_count": null,
      "outputs": [
        {
          "output_type": "stream",
          "text": [
            "--2021-03-18 11:48:09--  https://storage.googleapis.com/dataset-uploader/bbc/bbc-text.csv\n",
            "Resolving storage.googleapis.com (storage.googleapis.com)... 74.125.201.128, 74.125.202.128, 173.194.194.128, ...\n",
            "Connecting to storage.googleapis.com (storage.googleapis.com)|74.125.201.128|:443... connected.\n",
            "HTTP request sent, awaiting response... 200 OK\n",
            "Length: 5057493 (4.8M) [text/csv]\n",
            "Saving to: ‘/tmp/bbc-text.csv’\n",
            "\n",
            "\r/tmp/bbc-text.csv     0%[                    ]       0  --.-KB/s               \r/tmp/bbc-text.csv   100%[===================>]   4.82M  --.-KB/s    in 0.05s   \n",
            "\n",
            "2021-03-18 11:48:09 (105 MB/s) - ‘/tmp/bbc-text.csv’ saved [5057493/5057493]\n",
            "\n"
          ],
          "name": "stdout"
        }
      ]
    },
    {
      "cell_type": "code",
      "metadata": {
        "id": "823wsYEi5jPZ"
      },
      "source": [
        ""
      ],
      "execution_count": null,
      "outputs": []
    },
    {
      "cell_type": "code",
      "metadata": {
        "id": "NfINZDFs5JJk"
      },
      "source": [
        ""
      ],
      "execution_count": null,
      "outputs": []
    },
    {
      "cell_type": "code",
      "metadata": {
        "colab": {
          "base_uri": "https://localhost:8080/"
        },
        "id": "H9cNhx2-5N-v",
        "outputId": "ddfc418a-f09b-4da0-858d-d2315875de4f"
      },
      "source": [
        "#Converting Dataset to Dataframe :\n",
        "articles = []\n",
        "labels = []\n",
        "\n",
        "with open(\"/tmp/bbc-text.csv\", 'r') as csvfile:\n",
        "    reader = csv.reader(csvfile, delimiter=',')\n",
        "    next(reader)\n",
        "    for row in reader:\n",
        "        labels.append(row[0])\n",
        "        article = row[1]\n",
        "        for word in STOPWORDS:\n",
        "            token = ' ' + word + ' '\n",
        "            article = article.replace(token, ' ')\n",
        "            article = article.replace(' ', ' ')\n",
        "        articles.append(article)\n",
        "print(len(labels))\n",
        "print(len(articles))"
      ],
      "execution_count": null,
      "outputs": [
        {
          "output_type": "stream",
          "text": [
            "2225\n",
            "2225\n"
          ],
          "name": "stdout"
        }
      ]
    },
    {
      "cell_type": "code",
      "metadata": {
        "colab": {
          "base_uri": "https://localhost:8080/",
          "height": 402
        },
        "id": "SyEknO5t504N",
        "outputId": "ee78caa8-ebcd-45f2-961b-04373c9617bd"
      },
      "source": [
        "raw_df=pd.DataFrame({\"Text\":articles,\"Labels\":labels})\n",
        "raw_df"
      ],
      "execution_count": null,
      "outputs": [
        {
          "output_type": "execute_result",
          "data": {
            "text/html": [
              "<div>\n",
              "<style scoped>\n",
              "    .dataframe tbody tr th:only-of-type {\n",
              "        vertical-align: middle;\n",
              "    }\n",
              "\n",
              "    .dataframe tbody tr th {\n",
              "        vertical-align: top;\n",
              "    }\n",
              "\n",
              "    .dataframe thead th {\n",
              "        text-align: right;\n",
              "    }\n",
              "</style>\n",
              "<table border=\"1\" class=\"dataframe\">\n",
              "  <thead>\n",
              "    <tr style=\"text-align: right;\">\n",
              "      <th></th>\n",
              "      <th>Text</th>\n",
              "      <th>Labels</th>\n",
              "    </tr>\n",
              "  </thead>\n",
              "  <tbody>\n",
              "    <tr>\n",
              "      <th>0</th>\n",
              "      <td>tv future hands viewers home theatre systems  ...</td>\n",
              "      <td>tech</td>\n",
              "    </tr>\n",
              "    <tr>\n",
              "      <th>1</th>\n",
              "      <td>worldcom boss  left books alone  former worldc...</td>\n",
              "      <td>business</td>\n",
              "    </tr>\n",
              "    <tr>\n",
              "      <th>2</th>\n",
              "      <td>tigers wary farrell  gamble  leicester say rus...</td>\n",
              "      <td>sport</td>\n",
              "    </tr>\n",
              "    <tr>\n",
              "      <th>3</th>\n",
              "      <td>yeading face newcastle fa cup premiership side...</td>\n",
              "      <td>sport</td>\n",
              "    </tr>\n",
              "    <tr>\n",
              "      <th>4</th>\n",
              "      <td>ocean twelve raids box office ocean twelve  cr...</td>\n",
              "      <td>entertainment</td>\n",
              "    </tr>\n",
              "    <tr>\n",
              "      <th>...</th>\n",
              "      <td>...</td>\n",
              "      <td>...</td>\n",
              "    </tr>\n",
              "    <tr>\n",
              "      <th>2220</th>\n",
              "      <td>cars pull us retail figures us retail sales fe...</td>\n",
              "      <td>business</td>\n",
              "    </tr>\n",
              "    <tr>\n",
              "      <th>2221</th>\n",
              "      <td>kilroy unveils immigration policy ex-chatshow ...</td>\n",
              "      <td>politics</td>\n",
              "    </tr>\n",
              "    <tr>\n",
              "      <th>2222</th>\n",
              "      <td>rem announce new glasgow concert us band rem a...</td>\n",
              "      <td>entertainment</td>\n",
              "    </tr>\n",
              "    <tr>\n",
              "      <th>2223</th>\n",
              "      <td>how political squabbles snowball become common...</td>\n",
              "      <td>politics</td>\n",
              "    </tr>\n",
              "    <tr>\n",
              "      <th>2224</th>\n",
              "      <td>souness delight euro progress boss graeme soun...</td>\n",
              "      <td>sport</td>\n",
              "    </tr>\n",
              "  </tbody>\n",
              "</table>\n",
              "<p>2225 rows × 2 columns</p>\n",
              "</div>"
            ],
            "text/plain": [
              "                                                   Text         Labels\n",
              "0     tv future hands viewers home theatre systems  ...           tech\n",
              "1     worldcom boss  left books alone  former worldc...       business\n",
              "2     tigers wary farrell  gamble  leicester say rus...          sport\n",
              "3     yeading face newcastle fa cup premiership side...          sport\n",
              "4     ocean twelve raids box office ocean twelve  cr...  entertainment\n",
              "...                                                 ...            ...\n",
              "2220  cars pull us retail figures us retail sales fe...       business\n",
              "2221  kilroy unveils immigration policy ex-chatshow ...       politics\n",
              "2222  rem announce new glasgow concert us band rem a...  entertainment\n",
              "2223  how political squabbles snowball become common...       politics\n",
              "2224  souness delight euro progress boss graeme soun...          sport\n",
              "\n",
              "[2225 rows x 2 columns]"
            ]
          },
          "metadata": {
            "tags": []
          },
          "execution_count": 4
        }
      ]
    },
    {
      "cell_type": "code",
      "metadata": {
        "colab": {
          "base_uri": "https://localhost:8080/"
        },
        "id": "BTE0dj786k4y",
        "outputId": "3243b185-bb85-409d-e2fd-f5a3320f414c"
      },
      "source": [
        "#Inspecting our Dataframe :\n",
        "raw_df.info()"
      ],
      "execution_count": null,
      "outputs": [
        {
          "output_type": "stream",
          "text": [
            "<class 'pandas.core.frame.DataFrame'>\n",
            "RangeIndex: 2225 entries, 0 to 2224\n",
            "Data columns (total 2 columns):\n",
            " #   Column  Non-Null Count  Dtype \n",
            "---  ------  --------------  ----- \n",
            " 0   Text    2225 non-null   object\n",
            " 1   Labels  2225 non-null   object\n",
            "dtypes: object(2)\n",
            "memory usage: 34.9+ KB\n"
          ],
          "name": "stdout"
        }
      ]
    },
    {
      "cell_type": "code",
      "metadata": {
        "colab": {
          "base_uri": "https://localhost:8080/"
        },
        "id": "iePawv0R6nSo",
        "outputId": "8032c51f-9e86-4c51-9013-4ec86ae12690"
      },
      "source": [
        "#Getting Number of Unique Classes in our dataset :\n",
        "raw_df.Labels.unique(),print(\"\\n Total number of Unique Target Classes : \",raw_df.Labels.nunique())"
      ],
      "execution_count": null,
      "outputs": [
        {
          "output_type": "stream",
          "text": [
            "\n",
            " Total number of Unique Target Classes :  5\n"
          ],
          "name": "stdout"
        },
        {
          "output_type": "execute_result",
          "data": {
            "text/plain": [
              "(array(['tech', 'business', 'sport', 'entertainment', 'politics'],\n",
              "       dtype=object), None)"
            ]
          },
          "metadata": {
            "tags": []
          },
          "execution_count": 6
        }
      ]
    },
    {
      "cell_type": "code",
      "metadata": {
        "id": "hzze8eSJICiK"
      },
      "source": [
        ""
      ],
      "execution_count": null,
      "outputs": []
    },
    {
      "cell_type": "code",
      "metadata": {
        "id": "8KijFGM-ICkv"
      },
      "source": [
        "# Text cleanup :\n",
        "stemmer = PorterStemmer()\n",
        "\n",
        "REPLACE_BY_SPACE_RE = re.compile('[/(){}\\[\\]\\|@,;]')\n",
        "BAD_SYMBOLS_RE = re.compile('[^0-9a-z #+_]')\n",
        "REMOVE_NUM = re.compile('[\\d+]')\n",
        "STOPWORDS = set(stopwords.words('english'))\n",
        "\n",
        "def clean_text(text):\n",
        "    \"\"\"\n",
        "    text: a string\n",
        "    return: modified initial string\n",
        "    \"\"\"\n",
        "    # lowercase text\n",
        "    text = text.lower() \n",
        "\n",
        "    # replace REPLACE_BY_SPACE_RE symbols by space in text\n",
        "    text = REPLACE_BY_SPACE_RE.sub(' ', text) \n",
        "    \n",
        "    # Remove the XXXX values\n",
        "    text = text.replace('x', '') \n",
        "    \n",
        "    # Remove white space\n",
        "    text = REMOVE_NUM.sub('', text)\n",
        "\n",
        "    #  delete symbols which are in BAD_SYMBOLS_RE from text\n",
        "    text = BAD_SYMBOLS_RE.sub('', text) \n",
        "\n",
        "    # delete stopwords from text\n",
        "    text = ' '.join(word for word in text.split() if word not in STOPWORDS) \n",
        "    \n",
        "    # removes any words composed of less than 2 or more than 21 letters\n",
        "    text = ' '.join(word for word in text.split() if (len(word) >= 2 and len(word) <= 21))\n",
        "\n",
        "    # Stemming the words\n",
        "    text = ' '.join([stemmer.stem(word) for word in text.split()])\n",
        "    \n",
        "    return text"
      ],
      "execution_count": null,
      "outputs": []
    },
    {
      "cell_type": "code",
      "metadata": {
        "id": "EYoSgqlNICnx"
      },
      "source": [
        "dataset=raw_df"
      ],
      "execution_count": null,
      "outputs": []
    },
    {
      "cell_type": "code",
      "metadata": {
        "colab": {
          "base_uri": "https://localhost:8080/"
        },
        "id": "G0jiDSSRICqN",
        "outputId": "4769327d-c7c2-4c3c-90b6-bc04bbf3936c"
      },
      "source": [
        "dataset['Text']=dataset['Text'].apply(clean_text)\n",
        "dataset['Text']"
      ],
      "execution_count": null,
      "outputs": [
        {
          "output_type": "execute_result",
          "data": {
            "text/plain": [
              "0       tv futur hand viewer home theatr system plasma...\n",
              "1       worldcom boss left book alon former worldcom b...\n",
              "2       tiger wari farrel gambl leicest say rush make ...\n",
              "3       yead face newcastl fa cup premiership side new...\n",
              "4       ocean twelv raid bo offic ocean twelv crime ca...\n",
              "                              ...                        \n",
              "2220    car pull us retail figur us retail sale fell j...\n",
              "2221    kilroy unveil immigr polici echatshow host rob...\n",
              "2222    rem announc new glasgow concert us band rem an...\n",
              "2223    polit squabbl snowbal becom commonplac argu bl...\n",
              "2224    souness delight euro progress boss graem soune...\n",
              "Name: Text, Length: 2225, dtype: object"
            ]
          },
          "metadata": {
            "tags": []
          },
          "execution_count": 9
        }
      ]
    },
    {
      "cell_type": "code",
      "metadata": {
        "colab": {
          "base_uri": "https://localhost:8080/"
        },
        "id": "q1i0bGTEICs7",
        "outputId": "1e95cfc5-3032-4cd0-c83b-ea137b38de4b"
      },
      "source": [
        "#Splitting raw data for Training and Testing :\n",
        "text = dataset[\"Text\"].values\n",
        "labels = dataset['Labels'].values\n",
        "\n",
        "X_train, y_train, X_test, y_test = train_test_split(text,labels, test_size = 0.20, random_state = 42)\n",
        "print(X_train.shape,X_test.shape)\n",
        "print(y_train.shape,y_test.shape)\n"
      ],
      "execution_count": null,
      "outputs": [
        {
          "output_type": "stream",
          "text": [
            "(1780,) (1780,)\n",
            "(445,) (445,)\n"
          ],
          "name": "stdout"
        }
      ]
    },
    {
      "cell_type": "code",
      "metadata": {
        "colab": {
          "base_uri": "https://localhost:8080/"
        },
        "id": "DTxW_b_MKA9i",
        "outputId": "a8f4fa01-7f45-43fb-cd2e-cdb0dd148a67"
      },
      "source": [
        "#Reshaping Labels Input :\n",
        "X_test=X_test.reshape(-1,1)\n",
        "y_test=y_test.reshape(-1,1)\n",
        "\n",
        "print(X_train.shape,X_test.shape)\n",
        "print(y_train.shape,y_test.shape)\n"
      ],
      "execution_count": null,
      "outputs": [
        {
          "output_type": "stream",
          "text": [
            "(1780,) (1780, 1)\n",
            "(445,) (445, 1)\n"
          ],
          "name": "stdout"
        }
      ]
    },
    {
      "cell_type": "code",
      "metadata": {
        "id": "oczJCCbj-zU8",
        "colab": {
          "base_uri": "https://localhost:8080/"
        },
        "outputId": "b7c83c8e-4d95-46f3-8c77-7204af167543"
      },
      "source": [
        "# Tokenising , Converting Text To Sequences and Padding Our Data : \n",
        "\n",
        "tokenizer = Tokenizer(num_words=vocab_size, oov_token='<OOV>')\n",
        "tokenizer.fit_on_texts(X_train)\n",
        "word_index = tokenizer.word_index\n",
        "print('Found %s unique tokens.' % len(word_index))\n",
        "word_index"
      ],
      "execution_count": null,
      "outputs": [
        {
          "output_type": "stream",
          "text": [
            "Found 19057 unique tokens.\n"
          ],
          "name": "stdout"
        },
        {
          "output_type": "execute_result",
          "data": {
            "text/plain": [
              "{'<OOV>': 1,\n",
              " 'said': 2,\n",
              " 'mr': 3,\n",
              " 'year': 4,\n",
              " 'would': 5,\n",
              " 'also': 6,\n",
              " 'new': 7,\n",
              " 'peopl': 8,\n",
              " 'us': 9,\n",
              " 'one': 10,\n",
              " 'game': 11,\n",
              " 'say': 12,\n",
              " 'use': 13,\n",
              " 'could': 14,\n",
              " 'time': 15,\n",
              " 'last': 16,\n",
              " 'make': 17,\n",
              " 'first': 18,\n",
              " 'net': 19,\n",
              " 'go': 20,\n",
              " 'govern': 21,\n",
              " 'like': 22,\n",
              " 'two': 23,\n",
              " 'play': 24,\n",
              " 'take': 25,\n",
              " 'world': 26,\n",
              " 'get': 27,\n",
              " 'compani': 28,\n",
              " 'film': 29,\n",
              " 'work': 30,\n",
              " 'uk': 31,\n",
              " 'show': 32,\n",
              " 'firm': 33,\n",
              " 'music': 34,\n",
              " 'back': 35,\n",
              " 'bn': 36,\n",
              " 'want': 37,\n",
              " 'best': 38,\n",
              " 'told': 39,\n",
              " 'market': 40,\n",
              " 'win': 41,\n",
              " 'plan': 42,\n",
              " 'made': 43,\n",
              " 'includ': 44,\n",
              " 'month': 45,\n",
              " 'report': 46,\n",
              " 'servic': 47,\n",
              " 'set': 48,\n",
              " 'come': 49,\n",
              " 'number': 50,\n",
              " 'ad': 51,\n",
              " 'way': 52,\n",
              " 'player': 53,\n",
              " 'week': 54,\n",
              " 'three': 55,\n",
              " 'countri': 56,\n",
              " 'need': 57,\n",
              " 'mani': 58,\n",
              " 'parti': 59,\n",
              " 'bbc': 60,\n",
              " 'labour': 61,\n",
              " 'look': 62,\n",
              " 'epect': 63,\n",
              " 'home': 64,\n",
              " 'elect': 65,\n",
              " 'may': 66,\n",
              " 'nation': 67,\n",
              " 'sale': 68,\n",
              " 'good': 69,\n",
              " 'help': 70,\n",
              " 'day': 71,\n",
              " 'well': 72,\n",
              " 'call': 73,\n",
              " 'minist': 74,\n",
              " 'technolog': 75,\n",
              " 'million': 76,\n",
              " 'think': 77,\n",
              " 'see': 78,\n",
              " 'mobil': 79,\n",
              " 'second': 80,\n",
              " 'right': 81,\n",
              " 'public': 82,\n",
              " 'start': 83,\n",
              " 'record': 84,\n",
              " 'england': 85,\n",
              " 'sinc': 86,\n",
              " 'award': 87,\n",
              " 'top': 88,\n",
              " 'group': 89,\n",
              " 'much': 90,\n",
              " 'offer': 91,\n",
              " 'share': 92,\n",
              " 'part': 93,\n",
              " 'gener': 94,\n",
              " 'claim': 95,\n",
              " 'move': 96,\n",
              " 'still': 97,\n",
              " 'phone': 98,\n",
              " 'tri': 99,\n",
              " 'open': 100,\n",
              " 'end': 101,\n",
              " 'blair': 102,\n",
              " 'system': 103,\n",
              " 'hope': 104,\n",
              " 'even': 105,\n",
              " 'put': 106,\n",
              " 'price': 107,\n",
              " 'star': 108,\n",
              " 'current': 109,\n",
              " 'develop': 110,\n",
              " 'follow': 111,\n",
              " 'british': 112,\n",
              " 'european': 113,\n",
              " 'run': 114,\n",
              " 'tori': 115,\n",
              " 'chang': 116,\n",
              " 'issu': 117,\n",
              " 'tv': 118,\n",
              " 'bank': 119,\n",
              " 'believ': 120,\n",
              " 'secur': 121,\n",
              " 'news': 122,\n",
              " 'howev': 123,\n",
              " 'rate': 124,\n",
              " 'deal': 125,\n",
              " 'face': 126,\n",
              " 'give': 127,\n",
              " 'place': 128,\n",
              " 'support': 129,\n",
              " 'manag': 130,\n",
              " 'unit': 131,\n",
              " 'industri': 132,\n",
              " 'law': 133,\n",
              " 'cost': 134,\n",
              " 'product': 135,\n",
              " 'brown': 136,\n",
              " 'continu': 137,\n",
              " 'economi': 138,\n",
              " 'five': 139,\n",
              " 'four': 140,\n",
              " 'intern': 141,\n",
              " 'interest': 142,\n",
              " 'offic': 143,\n",
              " 'busi': 144,\n",
              " 'rule': 145,\n",
              " 'alreadi': 146,\n",
              " 'increas': 147,\n",
              " 'cut': 148,\n",
              " 'chief': 149,\n",
              " 'hit': 150,\n",
              " 'si': 151,\n",
              " 'director': 152,\n",
              " 'former': 153,\n",
              " 'user': 154,\n",
              " 'growth': 155,\n",
              " 'point': 156,\n",
              " 'recent': 157,\n",
              " 'comput': 158,\n",
              " 'meet': 159,\n",
              " 'rise': 160,\n",
              " 'campaign': 161,\n",
              " 'team': 162,\n",
              " 'final': 163,\n",
              " 'problem': 164,\n",
              " 'releas': 165,\n",
              " 'britain': 166,\n",
              " 'econom': 167,\n",
              " 'london': 168,\n",
              " 'club': 169,\n",
              " 'allow': 170,\n",
              " 'digit': 171,\n",
              " 'decis': 172,\n",
              " 'accord': 173,\n",
              " 'figur': 174,\n",
              " 'oper': 175,\n",
              " 'becom': 176,\n",
              " 'analyst': 177,\n",
              " 'lead': 178,\n",
              " 'lord': 179,\n",
              " 'network': 180,\n",
              " 'money': 181,\n",
              " 'consum': 182,\n",
              " 'state': 183,\n",
              " 'perform': 184,\n",
              " 'thing': 185,\n",
              " 'power': 186,\n",
              " 'know': 187,\n",
              " 'return': 188,\n",
              " 'spend': 189,\n",
              " 'inform': 190,\n",
              " 'announc': 191,\n",
              " 'court': 192,\n",
              " 'mean': 193,\n",
              " 'ta': 194,\n",
              " 'job': 195,\n",
              " 'person': 196,\n",
              " 'result': 197,\n",
              " 'case': 198,\n",
              " 'side': 199,\n",
              " 'softwar': 200,\n",
              " 'around': 201,\n",
              " 'wale': 202,\n",
              " 'big': 203,\n",
              " 'howard': 204,\n",
              " 'major': 205,\n",
              " 'eecut': 206,\n",
              " 'vote': 207,\n",
              " 'great': 208,\n",
              " 'took': 209,\n",
              " 'live': 210,\n",
              " 'third': 211,\n",
              " 'control': 212,\n",
              " 'name': 213,\n",
              " 'attack': 214,\n",
              " 'hous': 215,\n",
              " 'produc': 216,\n",
              " 'action': 217,\n",
              " 'europ': 218,\n",
              " 'leader': 219,\n",
              " 'remain': 220,\n",
              " 'match': 221,\n",
              " 'find': 222,\n",
              " 'polit': 223,\n",
              " 'came': 224,\n",
              " 'anoth': 225,\n",
              " 'futur': 226,\n",
              " 'got': 227,\n",
              " 'better': 228,\n",
              " 'provid': 229,\n",
              " 'ask': 230,\n",
              " 'high': 231,\n",
              " 'websit': 232,\n",
              " 'franc': 233,\n",
              " 'programm': 234,\n",
              " 'realli': 235,\n",
              " 'differ': 236,\n",
              " 'mp': 237,\n",
              " 'research': 238,\n",
              " 'launch': 239,\n",
              " 'radio': 240,\n",
              " 'success': 241,\n",
              " 'trade': 242,\n",
              " 'site': 243,\n",
              " 'spokesman': 244,\n",
              " 'lot': 245,\n",
              " 'import': 246,\n",
              " 'close': 247,\n",
              " 'found': 248,\n",
              " 'ireland': 249,\n",
              " 'concern': 250,\n",
              " 'titl': 251,\n",
              " 'bill': 252,\n",
              " 'charg': 253,\n",
              " 'onlin': 254,\n",
              " 'warn': 255,\n",
              " 'turn': 256,\n",
              " 'presid': 257,\n",
              " 'despit': 258,\n",
              " 'talk': 259,\n",
              " 'data': 260,\n",
              " 'video': 261,\n",
              " 'yearold': 262,\n",
              " 'pay': 263,\n",
              " 'member': 264,\n",
              " 'without': 265,\n",
              " 'suggest': 266,\n",
              " 'cup': 267,\n",
              " 'hold': 268,\n",
              " 'level': 269,\n",
              " 'minut': 270,\n",
              " 'legal': 271,\n",
              " 'chanc': 272,\n",
              " 'receiv': 273,\n",
              " 'lost': 274,\n",
              " 'invest': 275,\n",
              " 'song': 276,\n",
              " 'appear': 277,\n",
              " 'seen': 278,\n",
              " 'away': 279,\n",
              " 'life': 280,\n",
              " 'access': 281,\n",
              " 'everi': 282,\n",
              " 'media': 283,\n",
              " 'fund': 284,\n",
              " 'test': 285,\n",
              " 'given': 286,\n",
              " 'creat': 287,\n",
              " 'offici': 288,\n",
              " 'act': 289,\n",
              " 'posit': 290,\n",
              " 'oil': 291,\n",
              " 'prime': 292,\n",
              " 'list': 293,\n",
              " 'propos': 294,\n",
              " 'real': 295,\n",
              " 'earlier': 296,\n",
              " 'forc': 297,\n",
              " 'later': 298,\n",
              " 'china': 299,\n",
              " 'long': 300,\n",
              " 'profit': 301,\n",
              " 'abl': 302,\n",
              " 'fail': 303,\n",
              " 'sport': 304,\n",
              " 'mark': 305,\n",
              " 'far': 306,\n",
              " 'michael': 307,\n",
              " 'line': 308,\n",
              " 'although': 309,\n",
              " 'demand': 310,\n",
              " 'financi': 311,\n",
              " 'coach': 312,\n",
              " 'role': 313,\n",
              " 'januari': 314,\n",
              " 'decemb': 315,\n",
              " 'past': 316,\n",
              " 'foreign': 317,\n",
              " 'due': 318,\n",
              " 'season': 319,\n",
              " 'whether': 320,\n",
              " 'earli': 321,\n",
              " 'account': 322,\n",
              " 'possibl': 323,\n",
              " 'band': 324,\n",
              " 'thought': 325,\n",
              " 'sign': 326,\n",
              " 'download': 327,\n",
              " 'polici': 328,\n",
              " 'microsoft': 329,\n",
              " 'book': 330,\n",
              " 'keep': 331,\n",
              " 'respons': 332,\n",
              " 'left': 333,\n",
              " 'less': 334,\n",
              " 'biggest': 335,\n",
              " 'buy': 336,\n",
              " 'children': 337,\n",
              " 'went': 338,\n",
              " 'commun': 339,\n",
              " 'reach': 340,\n",
              " 'statement': 341,\n",
              " 'secretari': 342,\n",
              " 'internet': 343,\n",
              " 'let': 344,\n",
              " 'john': 345,\n",
              " 'card': 346,\n",
              " 'hand': 347,\n",
              " 'file': 348,\n",
              " 'never': 349,\n",
              " 'happen': 350,\n",
              " 'target': 351,\n",
              " 'half': 352,\n",
              " 'bo': 353,\n",
              " 'order': 354,\n",
              " 'injuri': 355,\n",
              " 'singl': 356,\n",
              " 'champion': 357,\n",
              " 'council': 358,\n",
              " 'hard': 359,\n",
              " 'head': 360,\n",
              " 'devic': 361,\n",
              " 'dollar': 362,\n",
              " 'search': 363,\n",
              " 'latest': 364,\n",
              " 'william': 365,\n",
              " 'clear': 366,\n",
              " 'bid': 367,\n",
              " 'beat': 368,\n",
              " 'david': 369,\n",
              " 'key': 370,\n",
              " 'question': 371,\n",
              " 'ahead': 372,\n",
              " 'budget': 373,\n",
              " 'polic': 374,\n",
              " 'rais': 375,\n",
              " 'strong': 376,\n",
              " 'centr': 377,\n",
              " 'email': 378,\n",
              " 'miss': 379,\n",
              " 'messag': 380,\n",
              " 'chancellor': 381,\n",
              " 'pc': 382,\n",
              " 'improv': 383,\n",
              " 'held': 384,\n",
              " 'ms': 385,\n",
              " 'event': 386,\n",
              " 'direct': 387,\n",
              " 'involv': 388,\n",
              " 'man': 389,\n",
              " 'yet': 390,\n",
              " 'project': 391,\n",
              " 'fall': 392,\n",
              " 'south': 393,\n",
              " 'agre': 394,\n",
              " 'local': 395,\n",
              " 'critic': 396,\n",
              " 'someth': 397,\n",
              " 'competit': 398,\n",
              " 'movi': 399,\n",
              " 'sunday': 400,\n",
              " 'aid': 401,\n",
              " 'comment': 402,\n",
              " 'organis': 403,\n",
              " 'area': 404,\n",
              " 'conserv': 405,\n",
              " 'school': 406,\n",
              " 'protect': 407,\n",
              " 'form': 408,\n",
              " 'american': 409,\n",
              " 'huge': 410,\n",
              " 'feel': 411,\n",
              " 'fan': 412,\n",
              " 'eu': 413,\n",
              " 'present': 414,\n",
              " 'total': 415,\n",
              " 'must': 416,\n",
              " 'alway': 417,\n",
              " 'seri': 418,\n",
              " 'union': 419,\n",
              " 'scotland': 420,\n",
              " 'olymp': 421,\n",
              " 'version': 422,\n",
              " 'quarter': 423,\n",
              " 'race': 424,\n",
              " 'march': 425,\n",
              " 'decid': 426,\n",
              " 'littl': 427,\n",
              " 'taken': 428,\n",
              " 'among': 429,\n",
              " 'broadband': 430,\n",
              " 'term': 431,\n",
              " 'japan': 432,\n",
              " 'aim': 433,\n",
              " 'standard': 434,\n",
              " 'famili': 435,\n",
              " 'ago': 436,\n",
              " 'effect': 437,\n",
              " 'commiss': 438,\n",
              " 'winner': 439,\n",
              " 'base': 440,\n",
              " 'grow': 441,\n",
              " 'victori': 442,\n",
              " 'deni': 443,\n",
              " 'war': 444,\n",
              " 'sold': 445,\n",
              " 'free': 446,\n",
              " 'might': 447,\n",
              " 'almost': 448,\n",
              " 'behind': 449,\n",
              " 'wednesday': 450,\n",
              " 'replac': 451,\n",
              " 'across': 452,\n",
              " 'februari': 453,\n",
              " 'break': 454,\n",
              " 'associ': 455,\n",
              " 'challeng': 456,\n",
              " 'citi': 457,\n",
              " 'design': 458,\n",
              " 'done': 459,\n",
              " 'rugbi': 460,\n",
              " 'save': 461,\n",
              " 'custom': 462,\n",
              " 'enough': 463,\n",
              " 'toni': 464,\n",
              " 'global': 465,\n",
              " 'author': 466,\n",
              " 'actor': 467,\n",
              " 'limit': 468,\n",
              " 'euro': 469,\n",
              " 'tuesday': 470,\n",
              " 'nomin': 471,\n",
              " 'build': 472,\n",
              " 'content': 473,\n",
              " 'stock': 474,\n",
              " 'boost': 475,\n",
              " 'program': 476,\n",
              " 'th': 477,\n",
              " 'common': 478,\n",
              " 'men': 479,\n",
              " 'age': 480,\n",
              " 'popular': 481,\n",
              " 'consid': 482,\n",
              " 'sever': 483,\n",
              " 'confid': 484,\n",
              " 'india': 485,\n",
              " 'least': 486,\n",
              " 'young': 487,\n",
              " 'car': 488,\n",
              " 'today': 489,\n",
              " 'women': 490,\n",
              " 'monday': 491,\n",
              " 'album': 492,\n",
              " 'forward': 493,\n",
              " 'dvd': 494,\n",
              " 'stop': 495,\n",
              " 'ensur': 496,\n",
              " 'bring': 497,\n",
              " 'drive': 498,\n",
              " 'rather': 499,\n",
              " 'view': 500,\n",
              " 'quit': 501,\n",
              " 'predict': 502,\n",
              " 'trial': 503,\n",
              " 'goal': 504,\n",
              " 'sell': 505,\n",
              " 'prize': 506,\n",
              " 'ever': 507,\n",
              " 'within': 508,\n",
              " 'accus': 509,\n",
              " 'featur': 510,\n",
              " 'screen': 511,\n",
              " 'leagu': 512,\n",
              " 'origin': 513,\n",
              " 'saturday': 514,\n",
              " 'broadcast': 515,\n",
              " 'novemb': 516,\n",
              " 'avail': 517,\n",
              " 'drug': 518,\n",
              " 'hour': 519,\n",
              " 'earn': 520,\n",
              " 'sir': 521,\n",
              " 'chelsea': 522,\n",
              " 'ban': 523,\n",
              " 'fight': 524,\n",
              " 'feder': 525,\n",
              " 'promis': 526,\n",
              " 'street': 527,\n",
              " 'appeal': 528,\n",
              " 'drop': 529,\n",
              " 'process': 530,\n",
              " 'debt': 531,\n",
              " 'detail': 532,\n",
              " 'host': 533,\n",
              " 'join': 534,\n",
              " 'argu': 535,\n",
              " 'care': 536,\n",
              " 'appl': 537,\n",
              " 'link': 538,\n",
              " 'fear': 539,\n",
              " 'step': 540,\n",
              " 'committe': 541,\n",
              " 'televis': 542,\n",
              " 'main': 543,\n",
              " 'wide': 544,\n",
              " 'watch': 545,\n",
              " 'opportun': 546,\n",
              " 'initi': 547,\n",
              " 'festiv': 548,\n",
              " 'human': 549,\n",
              " 'score': 550,\n",
              " 'previou': 551,\n",
              " 'chart': 552,\n",
              " 'jone': 553,\n",
              " 'chairman': 554,\n",
              " 'friday': 555,\n",
              " 'stage': 556,\n",
              " 'educ': 557,\n",
              " 'full': 558,\n",
              " 'larg': 559,\n",
              " 'though': 560,\n",
              " 'potenti': 561,\n",
              " 'univers': 562,\n",
              " 'footbal': 563,\n",
              " 'leav': 564,\n",
              " 'democrat': 565,\n",
              " 'insist': 566,\n",
              " 'complet': 567,\n",
              " 'independ': 568,\n",
              " 'board': 569,\n",
              " 'effort': 570,\n",
              " 'oscar': 571,\n",
              " 'publish': 572,\n",
              " 'connect': 573,\n",
              " 'train': 574,\n",
              " 'stand': 575,\n",
              " 'choic': 576,\n",
              " 'dem': 577,\n",
              " 'boss': 578,\n",
              " 'other': 579,\n",
              " 'agenc': 580,\n",
              " 'damag': 581,\n",
              " 'lib': 582,\n",
              " 'career': 583,\n",
              " 'web': 584,\n",
              " 'giant': 585,\n",
              " 'christma': 586,\n",
              " 'valu': 587,\n",
              " 'imag': 588,\n",
              " 'black': 589,\n",
              " 'itali': 590,\n",
              " 'tour': 591,\n",
              " 'airlin': 592,\n",
              " 'rose': 593,\n",
              " 'pictur': 594,\n",
              " 'carri': 595,\n",
              " 'parliament': 596,\n",
              " 'pressur': 597,\n",
              " 'camera': 598,\n",
              " 'doubl': 599,\n",
              " 'thursday': 600,\n",
              " 'suffer': 601,\n",
              " 'idea': 602,\n",
              " 'liber': 603,\n",
              " 'immigr': 604,\n",
              " 'cash': 605,\n",
              " 'speed': 606,\n",
              " 'sure': 607,\n",
              " 'soni': 608,\n",
              " 'fact': 609,\n",
              " 'higher': 610,\n",
              " 'york': 611,\n",
              " 'admit': 612,\n",
              " 'caus': 613,\n",
              " 'bit': 614,\n",
              " 'rival': 615,\n",
              " 'love': 616,\n",
              " 'septemb': 617,\n",
              " 'noth': 618,\n",
              " 'seem': 619,\n",
              " 'investig': 620,\n",
              " 'davi': 621,\n",
              " 'defend': 622,\n",
              " 'pick': 623,\n",
              " 'prove': 624,\n",
              " 'reduc': 625,\n",
              " 'commit': 626,\n",
              " 'low': 627,\n",
              " 'confirm': 628,\n",
              " 'trust': 629,\n",
              " 'gadget': 630,\n",
              " 'iraq': 631,\n",
              " 'charl': 632,\n",
              " 'saw': 633,\n",
              " 'reveal': 634,\n",
              " 'small': 635,\n",
              " 'achiev': 636,\n",
              " 'difficult': 637,\n",
              " 'instead': 638,\n",
              " 'special': 639,\n",
              " 'fourth': 640,\n",
              " 'reason': 641,\n",
              " 'individu': 642,\n",
              " 'depart': 643,\n",
              " 'measur': 644,\n",
              " 'benefit': 645,\n",
              " 'risk': 646,\n",
              " 'attempt': 647,\n",
              " 'judg': 648,\n",
              " 'led': 649,\n",
              " 'fit': 650,\n",
              " 'push': 651,\n",
              " 'battl': 652,\n",
              " 'stay': 653,\n",
              " 'athlet': 654,\n",
              " 'annual': 655,\n",
              " 'stori': 656,\n",
              " 'health': 657,\n",
              " 'weekend': 658,\n",
              " 'singer': 659,\n",
              " 'compet': 660,\n",
              " 'press': 661,\n",
              " 'voter': 662,\n",
              " 'newspap': 663,\n",
              " 'finish': 664,\n",
              " 'pass': 665,\n",
              " 'repres': 666,\n",
              " 'compar': 667,\n",
              " 'electron': 668,\n",
              " 'affect': 669,\n",
              " 'accept': 670,\n",
              " 'late': 671,\n",
              " 'lose': 672,\n",
              " 'seek': 673,\n",
              " 'similar': 674,\n",
              " 'summer': 675,\n",
              " 'send': 676,\n",
              " 'begin': 677,\n",
              " 'championship': 678,\n",
              " 'octob': 679,\n",
              " 'eport': 680,\n",
              " 'evid': 681,\n",
              " 'entertain': 682,\n",
              " 'amount': 683,\n",
              " 'ball': 684,\n",
              " 'paul': 685,\n",
              " 'track': 686,\n",
              " 'financ': 687,\n",
              " 'eight': 688,\n",
              " 'old': 689,\n",
              " 'eperi': 690,\n",
              " 'moment': 691,\n",
              " 'survey': 692,\n",
              " 'sector': 693,\n",
              " 'investor': 694,\n",
              " 'echang': 695,\n",
              " 'speak': 696,\n",
              " 'alleg': 697,\n",
              " 'contract': 698,\n",
              " 'liverpool': 699,\n",
              " 'audienc': 700,\n",
              " 'blog': 701,\n",
              " 'impress': 702,\n",
              " 'machin': 703,\n",
              " 'rock': 704,\n",
              " 'etra': 705,\n",
              " 'controversi': 706,\n",
              " 'french': 707,\n",
              " 'robinson': 708,\n",
              " 'simpli': 709,\n",
              " 'deliv': 710,\n",
              " 'confer': 711,\n",
              " 'russian': 712,\n",
              " 'brand': 713,\n",
              " 'cannot': 714,\n",
              " 'manchest': 715,\n",
              " 'copi': 716,\n",
              " 'discuss': 717,\n",
              " 'bodi': 718,\n",
              " 'pension': 719,\n",
              " 'seven': 720,\n",
              " 'date': 721,\n",
              " 'parent': 722,\n",
              " 'rang': 723,\n",
              " 'debat': 724,\n",
              " 'estim': 725,\n",
              " 'gordon': 726,\n",
              " 'fell': 727,\n",
              " 'reform': 728,\n",
              " 'martin': 729,\n",
              " 'forecast': 730,\n",
              " 'poll': 731,\n",
              " 'senior': 732,\n",
              " 'tell': 733,\n",
              " 'short': 734,\n",
              " 'manufactur': 735,\n",
              " 'irish': 736,\n",
              " 'arsen': 737,\n",
              " 'serv': 738,\n",
              " 'sent': 739,\n",
              " 'per': 740,\n",
              " 'artist': 741,\n",
              " 'hunt': 742,\n",
              " 'known': 743,\n",
              " 'africa': 744,\n",
              " 'yuko': 745,\n",
              " 'introduc': 746,\n",
              " 'speech': 747,\n",
              " 'understand': 748,\n",
              " 'store': 749,\n",
              " 'wrong': 750,\n",
              " 'review': 751,\n",
              " 'surpris': 752,\n",
              " 'period': 753,\n",
              " 'favourit': 754,\n",
              " 'anyth': 755,\n",
              " 'gain': 756,\n",
              " 'togeth': 757,\n",
              " 'air': 758,\n",
              " 'defeat': 759,\n",
              " 'wait': 760,\n",
              " 'robert': 761,\n",
              " 'privat': 762,\n",
              " 'dr': 763,\n",
              " 'model': 764,\n",
              " 'read': 765,\n",
              " 'emerg': 766,\n",
              " 'prepar': 767,\n",
              " 'worri': 768,\n",
              " 'round': 769,\n",
              " 'deficit': 770,\n",
              " 'ukip': 771,\n",
              " 'impact': 772,\n",
              " 'loss': 773,\n",
              " 'fo': 774,\n",
              " 'australian': 775,\n",
              " 'reject': 776,\n",
              " 'energi': 777,\n",
              " 'revenu': 778,\n",
              " 'post': 779,\n",
              " 'voic': 780,\n",
              " 'studi': 781,\n",
              " 'paid': 782,\n",
              " 'situat': 783,\n",
              " 'consol': 784,\n",
              " 'germani': 785,\n",
              " 'crimin': 786,\n",
              " 'matter': 787,\n",
              " 'die': 788,\n",
              " 'squad': 789,\n",
              " 'categori': 790,\n",
              " 'avoid': 791,\n",
              " 'sound': 792,\n",
              " 'either': 793,\n",
              " 'grand': 794,\n",
              " 'employ': 795,\n",
              " 'travel': 796,\n",
              " 'night': 797,\n",
              " 'illeg': 798,\n",
              " 'retail': 799,\n",
              " 'sharehold': 800,\n",
              " 'scheme': 801,\n",
              " 'whole': 802,\n",
              " 'credit': 803,\n",
              " 'histori': 804,\n",
              " 'window': 805,\n",
              " 'penalti': 806,\n",
              " 'actress': 807,\n",
              " 'tae': 808,\n",
              " 'clark': 809,\n",
              " 'averag': 810,\n",
              " 'spent': 811,\n",
              " 'meanwhil': 812,\n",
              " 'doubt': 813,\n",
              " 'comedi': 814,\n",
              " 'maker': 815,\n",
              " 'domin': 816,\n",
              " 'refus': 817,\n",
              " 'cours': 818,\n",
              " 'describ': 819,\n",
              " 'bush': 820,\n",
              " 'everyon': 821,\n",
              " 'celebr': 822,\n",
              " 'poor': 823,\n",
              " 'happi': 824,\n",
              " 'engin': 825,\n",
              " 'largest': 826,\n",
              " 'approach': 827,\n",
              " 'corpor': 828,\n",
              " 'german': 829,\n",
              " 'tough': 830,\n",
              " 'smith': 831,\n",
              " 'word': 832,\n",
              " 'roddick': 833,\n",
              " 'debut': 834,\n",
              " 'economist': 835,\n",
              " 'america': 836,\n",
              " 'activ': 837,\n",
              " 'everyth': 838,\n",
              " 'googl': 839,\n",
              " 'becam': 840,\n",
              " 'indian': 841,\n",
              " 'disast': 842,\n",
              " 'australia': 843,\n",
              " 'scottish': 844,\n",
              " 'central': 845,\n",
              " 'mike': 846,\n",
              " 'agreement': 847,\n",
              " 'fine': 848,\n",
              " 'brought': 849,\n",
              " 'write': 850,\n",
              " 'kick': 851,\n",
              " 'disappoint': 852,\n",
              " 'gave': 853,\n",
              " 'approv': 854,\n",
              " 'bought': 855,\n",
              " 'jame': 856,\n",
              " 'angel': 857,\n",
              " 'ceremoni': 858,\n",
              " 'kennedi': 859,\n",
              " 'threat': 860,\n",
              " 'pop': 861,\n",
              " 'tackl': 862,\n",
              " 'collect': 863,\n",
              " 'answer': 864,\n",
              " 'requir': 865,\n",
              " 'studio': 866,\n",
              " 'patent': 867,\n",
              " 'fraud': 868,\n",
              " 'lawyer': 869,\n",
              " 'bad': 870,\n",
              " 'soon': 871,\n",
              " 'focu': 872,\n",
              " 'russia': 873,\n",
              " 'west': 874,\n",
              " 'honour': 875,\n",
              " 'alan': 876,\n",
              " 'captain': 877,\n",
              " 'sourc': 878,\n",
              " 'friend': 879,\n",
              " 'station': 880,\n",
              " 'outsid': 881,\n",
              " 'cover': 882,\n",
              " 'death': 883,\n",
              " 'lower': 884,\n",
              " 'previous': 885,\n",
              " 'hollywood': 886,\n",
              " 'slow': 887,\n",
              " 'struggl': 888,\n",
              " 'epert': 889,\n",
              " 'channel': 890,\n",
              " 'specul': 891,\n",
              " 'region': 892,\n",
              " 'shot': 893,\n",
              " 'particularli': 894,\n",
              " 'often': 895,\n",
              " 'handset': 896,\n",
              " 'insur': 897,\n",
              " 'eampl': 898,\n",
              " 'address': 899,\n",
              " 'paper': 900,\n",
              " 'campbel': 901,\n",
              " 'april': 902,\n",
              " 'enjoy': 903,\n",
              " 'incom': 904,\n",
              " 'blunkett': 905,\n",
              " 'encourag': 906,\n",
              " 'separ': 907,\n",
              " 'unveil': 908,\n",
              " 'via': 909,\n",
              " 'row': 910,\n",
              " 'respect': 911,\n",
              " 'johnson': 912,\n",
              " 'billion': 913,\n",
              " 'qualiti': 914,\n",
              " 'coupl': 915,\n",
              " 'whose': 916,\n",
              " 'student': 917,\n",
              " 'regul': 918,\n",
              " 'eist': 919,\n",
              " 'civil': 920,\n",
              " 'andi': 921,\n",
              " 'worker': 922,\n",
              " 'kilroysilk': 923,\n",
              " 'shown': 924,\n",
              " 'richard': 925,\n",
              " 'anyon': 926,\n",
              " 'visit': 927,\n",
              " 'heart': 928,\n",
              " 'viru': 929,\n",
              " 'crime': 930,\n",
              " 'aviat': 931,\n",
              " 'park': 932,\n",
              " 'gone': 933,\n",
              " 'jump': 934,\n",
              " 'toward': 935,\n",
              " 'gold': 936,\n",
              " 'affair': 937,\n",
              " 'nearli': 938,\n",
              " 'criticis': 939,\n",
              " 'athen': 940,\n",
              " 'light': 941,\n",
              " 'field': 942,\n",
              " 'easi': 943,\n",
              " 'talent': 944,\n",
              " 'spot': 945,\n",
              " 'bt': 946,\n",
              " 'june': 947,\n",
              " 'rest': 948,\n",
              " 'defenc': 949,\n",
              " 'hear': 950,\n",
              " 'ground': 951,\n",
              " 'listen': 952,\n",
              " 'domest': 953,\n",
              " 'display': 954,\n",
              " 'front': 955,\n",
              " 'retir': 956,\n",
              " 'sort': 957,\n",
              " 'pledg': 958,\n",
              " 'premiership': 959,\n",
              " 'white': 960,\n",
              " 'asylum': 961,\n",
              " 'worth': 962,\n",
              " 'east': 963,\n",
              " 'nine': 964,\n",
              " 'prison': 965,\n",
              " 'theatr': 966,\n",
              " 'distribut': 967,\n",
              " 'societi': 968,\n",
              " 'zealand': 969,\n",
              " 'prevent': 970,\n",
              " 'pair': 971,\n",
              " 'road': 972,\n",
              " 'spam': 973,\n",
              " 'properti': 974,\n",
              " 'epress': 975,\n",
              " 'social': 976,\n",
              " 'enter': 977,\n",
              " 'met': 978,\n",
              " 'staff': 979,\n",
              " 'kelli': 980,\n",
              " 'stake': 981,\n",
              " 'declin': 982,\n",
              " 'tsunami': 983,\n",
              " 'spain': 984,\n",
              " 'de': 985,\n",
              " 'add': 986,\n",
              " 'newcastl': 987,\n",
              " 'sentenc': 988,\n",
              " 'chip': 989,\n",
              " 'arrest': 990,\n",
              " 'thousand': 991,\n",
              " 'blue': 992,\n",
              " 'signific': 993,\n",
              " 'seriou': 994,\n",
              " 'indoor': 995,\n",
              " 'unlik': 996,\n",
              " 'eplain': 997,\n",
              " 'recoveri': 998,\n",
              " 'probabl': 999,\n",
              " 'land': 1000,\n",
              " ...}"
            ]
          },
          "metadata": {
            "tags": []
          },
          "execution_count": 23
        }
      ]
    },
    {
      "cell_type": "code",
      "metadata": {
        "id": "aaDMAKxTICvl"
      },
      "source": [
        "# Converting into Text to sequences and padding :\n",
        "train_seq = tokenizer.texts_to_sequences(X_train)\n",
        "train_padded = pad_sequences(train_seq, maxlen=max_length, padding=padding_type, truncating=trunc_type)\n",
        "\n",
        "validation_seq = tokenizer.texts_to_sequences(y_train)\n",
        "validation_padded = pad_sequences(validation_seq, maxlen=max_length, padding=padding_type, truncating=trunc_type)\n"
      ],
      "execution_count": null,
      "outputs": []
    },
    {
      "cell_type": "code",
      "metadata": {
        "colab": {
          "base_uri": "https://localhost:8080/"
        },
        "id": "sgoz7t4fRiLR",
        "outputId": "8756714e-72e9-44d6-d1b7-17f90038bde8"
      },
      "source": [
        "#Just an Example to see the raw sentance , sentance in sequences, sentance in sequences with padding:\n",
        "X_train[3],train_seq[3],train_padded[3]"
      ],
      "execution_count": null,
      "outputs": [
        {
          "output_type": "execute_result",
          "data": {
            "text/plain": [
              "('school tribut tv host carson peopl turn sunday pay tribut late us tv present johnni carson nebraska town grew carson host tonight show year die januari respiratori diseas emphysema live norfolk nebraska age eight join navi return regularli donat local caus old school friend among crowd school johnni carson theater carson one bestlov tv person us ask public memori lo angel live later life began showbusi career norfolk perform magic name great carsoni age donat includ norfolk high school build new perform art centr carson die presid bush led public tribut say present profound influenc american life entertain',\n",
              " [406,\n",
              "  1949,\n",
              "  118,\n",
              "  533,\n",
              "  4422,\n",
              "  8,\n",
              "  256,\n",
              "  400,\n",
              "  263,\n",
              "  1949,\n",
              "  671,\n",
              "  9,\n",
              "  118,\n",
              "  414,\n",
              "  2424,\n",
              "  4422,\n",
              "  7885,\n",
              "  2002,\n",
              "  1396,\n",
              "  4422,\n",
              "  533,\n",
              "  5529,\n",
              "  32,\n",
              "  4,\n",
              "  788,\n",
              "  314,\n",
              "  12214,\n",
              "  1915,\n",
              "  12215,\n",
              "  210,\n",
              "  4423,\n",
              "  7885,\n",
              "  480,\n",
              "  688,\n",
              "  534,\n",
              "  7886,\n",
              "  188,\n",
              "  2140,\n",
              "  1054,\n",
              "  395,\n",
              "  613,\n",
              "  689,\n",
              "  406,\n",
              "  879,\n",
              "  429,\n",
              "  1103,\n",
              "  406,\n",
              "  2424,\n",
              "  4422,\n",
              "  9366,\n",
              "  4422,\n",
              "  10,\n",
              "  9367,\n",
              "  118,\n",
              "  196,\n",
              "  9,\n",
              "  230,\n",
              "  82,\n",
              "  1149,\n",
              "  1150,\n",
              "  857,\n",
              "  210,\n",
              "  298,\n",
              "  280,\n",
              "  1055,\n",
              "  6867,\n",
              "  583,\n",
              "  4423,\n",
              "  184,\n",
              "  2141,\n",
              "  213,\n",
              "  208,\n",
              "  12216,\n",
              "  480,\n",
              "  1054,\n",
              "  44,\n",
              "  4423,\n",
              "  231,\n",
              "  406,\n",
              "  472,\n",
              "  7,\n",
              "  184,\n",
              "  1133,\n",
              "  377,\n",
              "  4422,\n",
              "  788,\n",
              "  257,\n",
              "  820,\n",
              "  649,\n",
              "  82,\n",
              "  1949,\n",
              "  12,\n",
              "  414,\n",
              "  6124,\n",
              "  1252,\n",
              "  409,\n",
              "  280,\n",
              "  682],\n",
              " array([  406,  1949,   118,   533,  4422,     8,   256,   400,   263,\n",
              "         1949,   671,     9,   118,   414,  2424,  4422,  7885,  2002,\n",
              "         1396,  4422,   533,  5529,    32,     4,   788,   314, 12214,\n",
              "         1915, 12215,   210,  4423,  7885,   480,   688,   534,  7886,\n",
              "          188,  2140,  1054,   395,   613,   689,   406,   879,   429,\n",
              "         1103,   406,  2424,  4422,  9366,  4422,    10,  9367,   118,\n",
              "          196,     9,   230,    82,  1149,  1150,   857,   210,   298,\n",
              "          280,  1055,  6867,   583,  4423,   184,  2141,   213,   208,\n",
              "        12216,   480,  1054,    44,  4423,   231,   406,   472,     7,\n",
              "          184,  1133,   377,  4422,   788,   257,   820,   649,    82,\n",
              "         1949,    12,   414,  6124,  1252,   409,   280,   682,     0,\n",
              "            0,     0,     0,     0,     0,     0,     0,     0,     0,\n",
              "            0,     0,     0,     0,     0,     0,     0,     0,     0,\n",
              "            0,     0,     0,     0,     0,     0,     0,     0,     0,\n",
              "            0,     0,     0,     0,     0,     0,     0,     0,     0,\n",
              "            0,     0,     0,     0,     0,     0,     0,     0,     0,\n",
              "            0,     0,     0,     0,     0,     0,     0,     0,     0,\n",
              "            0,     0,     0,     0,     0,     0,     0,     0,     0,\n",
              "            0,     0,     0,     0,     0,     0,     0,     0,     0,\n",
              "            0,     0,     0,     0,     0,     0,     0,     0,     0,\n",
              "            0,     0,     0,     0,     0,     0,     0,     0,     0,\n",
              "            0,     0,     0,     0,     0,     0,     0,     0,     0,\n",
              "            0,     0], dtype=int32))"
            ]
          },
          "metadata": {
            "tags": []
          },
          "execution_count": 31
        }
      ]
    },
    {
      "cell_type": "code",
      "metadata": {
        "colab": {
          "base_uri": "https://localhost:8080/"
        },
        "id": "ka8vdj2KRfeX",
        "outputId": "1cfc0114-416d-49b9-d924-4f5093fce21a"
      },
      "source": [
        "print('Shape of data tensor:', train_padded.shape)\n",
        "print('Shape of data tensor:', validation_padded.shape)"
      ],
      "execution_count": null,
      "outputs": [
        {
          "output_type": "stream",
          "text": [
            "Shape of data tensor: (1780, 200)\n",
            "Shape of data tensor: (445, 200)\n"
          ],
          "name": "stdout"
        }
      ]
    },
    {
      "cell_type": "code",
      "metadata": {
        "id": "tbg4_MsdICx1"
      },
      "source": [
        "#Using One Hot Enocder to Enocde our Multi class Labels  :\n",
        "encode = OneHotEncoder()\n",
        "\n",
        "training_labels = encode.fit_transform(X_test)\n",
        "validation_labels = encode.transform(y_test)"
      ],
      "execution_count": null,
      "outputs": []
    },
    {
      "cell_type": "code",
      "metadata": {
        "colab": {
          "base_uri": "https://localhost:8080/"
        },
        "id": "XjKH1xFQIC0S",
        "outputId": "64f3ef9d-d80a-4179-8419-b4f904df1398"
      },
      "source": [
        "print(train_padded.shape)\n",
        "print(validation_labels.shape)\n",
        "print(validation_padded.shape)\n",
        "print(training_labels.shape)\n",
        "print(type(train_padded))\n",
        "print(type(validation_padded))\n",
        "print(type(training_labels))\n",
        "print(type(validation_labels))\n",
        "\n",
        "\n",
        "\n",
        "# The labels must be converted to arrays\n",
        "# Convert the labels to arrays\n",
        "training_labels = training_labels.toarray()\n",
        "validation_labels = validation_labels.toarray()\n",
        "\n",
        "print(type(training_labels))\n",
        "print(type(validation_labels))\n"
      ],
      "execution_count": null,
      "outputs": [
        {
          "output_type": "stream",
          "text": [
            "(1780, 200)\n",
            "(445, 5)\n",
            "(445, 200)\n",
            "(1780, 5)\n",
            "<class 'numpy.ndarray'>\n",
            "<class 'numpy.ndarray'>\n",
            "<class 'scipy.sparse.csr.csr_matrix'>\n",
            "<class 'scipy.sparse.csr.csr_matrix'>\n",
            "<class 'numpy.ndarray'>\n",
            "<class 'numpy.ndarray'>\n"
          ],
          "name": "stdout"
        }
      ]
    },
    {
      "cell_type": "code",
      "metadata": {
        "id": "hlROHjjozvFC"
      },
      "source": [
        ""
      ],
      "execution_count": null,
      "outputs": []
    },
    {
      "cell_type": "markdown",
      "metadata": {
        "id": "bkEEulImz2rQ"
      },
      "source": [
        "## Basic Functions for Plotting and Evaluation :"
      ]
    },
    {
      "cell_type": "code",
      "metadata": {
        "id": "ge-OpY1zz7Mj"
      },
      "source": [
        "def plot_graphs(history):\n",
        "  plt.title('Loss VS Accuracy')\n",
        "  plt.plot(history.history['loss'], label='train loss')\n",
        "  plt.plot(history.history['val_loss'], label='test loss')\n",
        "  plt.legend()\n",
        "  \n",
        "  plt.plot(history.history['accuracy'], label='train accuracy')\n",
        "  plt.plot(history.history['val_accuracy'], label='test accuracy')\n",
        "  plt.legend()\n",
        "  plt.show();\n",
        "  return None\n",
        "def loss_graph(history):\n",
        "  plt.title('Loss')\n",
        "  plt.plot(history.history['loss'], label='train')\n",
        "  plt.plot(history.history['val_loss'], label='test')\n",
        "  plt.legend()\n",
        "  plt.show();\n",
        "\n",
        "  return None\n",
        "\n",
        "def acc_graph(history):\n",
        "  plt.title('Accuracy')\n",
        "  plt.plot(history.history['accuracy'], label='train')\n",
        "  plt.plot(history.history['val_accuracy'], label='test')\n",
        "  plt.legend()\n",
        "  plt.show();\n",
        "\n",
        "  return None\n",
        "\n",
        "\n",
        "def evaluate_preds(y_true, y_preds):\n",
        "    \"\"\"\n",
        "    Performs evaluation comparison on y_true labels vs. y_pred labels\n",
        "    on a classification.\n",
        "    \"\"\"\n",
        "    accuracy = accuracy_score(y_true, y_preds)\n",
        "    precision = precision_score(y_true, y_preds, average='micro')\n",
        "    recall = recall_score(y_true, y_preds, average='micro')\n",
        "    f1 = f1_score(y_true, y_preds, average='micro')\n",
        "    metric_dict = {\"accuracy\": round(accuracy, 2),\n",
        "                   \"precision\": round(precision, 2),\n",
        "                   \"recall\": round(recall, 2),\n",
        "                   \"f1\": round(f1, 2)}\n",
        "    print(f\"Acc: {accuracy * 100:.2f}%\")\n",
        "    print(f\"Precision: {precision:.2f}\")\n",
        "    print(f\"Recall: {recall:.2f}\")\n",
        "    print(f\"F1 score: {f1:.2f}\")\n",
        "    \n",
        "    return metric_dict\n",
        "\n",
        "def model_eval(model,a,b,c,d):\n",
        "  score=model.evaluate(a,b,verbose=0)\n",
        "  score1=model.evaluate(c,d,verbose=0)\n",
        "  print(\"\\n\")\n",
        "  print(\"Model Loss on training data \",score[0])\n",
        "  print(\"Model Accuracy on training data: \",score[1])\n",
        "  print(\"Model Loss on validation data\",score1[0])\n",
        "  print(\"Model Accuracy on validation data: \",score1[1])\n",
        "  print(\"\\n\")\n",
        "  return score,score1\n",
        "\n",
        "def model_eval(model,a,b,c,d):\n",
        "  score=model.evaluate(a,b,verbose=0)\n",
        "  score1=model.evaluate(c,d,verbose=0)\n",
        "  print(\"\\n\")\n",
        "  print(\"Model Loss on training data \",score[0])\n",
        "  print(\"Model Accuracy on training data: \",score[1])\n",
        "  print(\"Model Loss on validation data\",score1[0])\n",
        "  print(\"Model Accuracy on validation data: \",score1[1])\n",
        "  print(\"\\n\")\n",
        "  return score,score1\n",
        "\n",
        "\n",
        "\n",
        "  "
      ],
      "execution_count": null,
      "outputs": []
    },
    {
      "cell_type": "markdown",
      "metadata": {
        "id": "PA4P3D90z93I"
      },
      "source": [
        "## Model Architectures :"
      ]
    },
    {
      "cell_type": "code",
      "metadata": {
        "id": "BnoSjSwNQ9Op"
      },
      "source": [
        "#Let's Fix Some Common Parameters :\n",
        "# The maximum number of words to be used. (most frequent)\n",
        "vocab_size = 50000\n",
        "\n",
        "# Dimension of the dense embedding.\n",
        "embedding_dim = 128\n",
        "\n",
        "# Max number of words in each complaint.\n",
        "max_length = 200\n",
        "\n",
        "# Truncate and padding options\n",
        "trunc_type = 'post'\n",
        "padding_type = 'post'\n",
        "oov_tok = '<OOV>'"
      ],
      "execution_count": null,
      "outputs": []
    },
    {
      "cell_type": "markdown",
      "metadata": {
        "id": "4Uijg0Ev-_QL"
      },
      "source": [
        "1. Using Conv1D :"
      ]
    },
    {
      "cell_type": "code",
      "metadata": {
        "colab": {
          "base_uri": "https://localhost:8080/"
        },
        "id": "6D0vrekqIC3N",
        "outputId": "9eb4fac9-2962-4872-c87b-9d24ab0b6e37"
      },
      "source": [
        "\n",
        "\n",
        "\n",
        "model = Sequential()\n",
        "model.add(Embedding(vocab_size, embedding_dim, input_length=train_padded.shape[1]))\n",
        "\n",
        "model.add(Conv1D(48, 5, activation='relu', padding='valid'))\n",
        "model.add(GlobalMaxPooling1D())\n",
        "model.add(Dropout(0.5))\n",
        "\n",
        "model.add(Flatten())\n",
        "model.add(Dropout(0.5))\n",
        "\n",
        "model.add(Dense(5, activation='softmax'))\n",
        "model.compile(loss='categorical_crossentropy', optimizer='adam', metrics=['accuracy'])\n",
        "\n",
        "epochs = 100\n",
        "batch_size = 32\n",
        "filepath=\"weights_best_cnn.hdf5\"\n",
        "\n",
        "checkpoint = ModelCheckpoint(filepath, monitor='val_accuracy', verbose=1, save_best_only=True, mode='max',save_weights_only=True)\n",
        "start = time.perf_counter()\n",
        "callbacks_list = [checkpoint,EarlyStopping(monitor='val_accuracy', mode='max', patience=5, verbose=1)]\n",
        "\n",
        "\n",
        "history = model.fit(train_padded, training_labels, shuffle=True ,\n",
        "                    epochs=epochs, batch_size=batch_size, \n",
        "                    callbacks=callbacks_list,validation_data=(validation_padded, validation_labels))\n",
        "elapsed = time.perf_counter() - start\n",
        "print('Elapsed %.3f seconds.' % elapsed)\n",
        "hist1=history\n"
      ],
      "execution_count": null,
      "outputs": [
        {
          "output_type": "stream",
          "text": [
            "Epoch 1/100\n",
            "56/56 [==============================] - 8s 125ms/step - loss: 1.6091 - accuracy: 0.2153 - val_loss: 1.5164 - val_accuracy: 0.4764\n",
            "\n",
            "Epoch 00001: val_accuracy improved from -inf to 0.47640, saving model to weights_best_cnn.hdf5\n",
            "Epoch 2/100\n",
            "56/56 [==============================] - 7s 121ms/step - loss: 1.4508 - accuracy: 0.4141 - val_loss: 1.2887 - val_accuracy: 0.7596\n",
            "\n",
            "Epoch 00002: val_accuracy improved from 0.47640 to 0.75955, saving model to weights_best_cnn.hdf5\n",
            "Epoch 3/100\n",
            "56/56 [==============================] - 7s 122ms/step - loss: 1.2067 - accuracy: 0.5683 - val_loss: 0.9165 - val_accuracy: 0.8584\n",
            "\n",
            "Epoch 00003: val_accuracy improved from 0.75955 to 0.85843, saving model to weights_best_cnn.hdf5\n",
            "Epoch 4/100\n",
            "56/56 [==============================] - 7s 120ms/step - loss: 0.9299 - accuracy: 0.7063 - val_loss: 0.6309 - val_accuracy: 0.8876\n",
            "\n",
            "Epoch 00004: val_accuracy improved from 0.85843 to 0.88764, saving model to weights_best_cnn.hdf5\n",
            "Epoch 5/100\n",
            "56/56 [==============================] - 7s 121ms/step - loss: 0.7293 - accuracy: 0.7680 - val_loss: 0.4823 - val_accuracy: 0.9079\n",
            "\n",
            "Epoch 00005: val_accuracy improved from 0.88764 to 0.90787, saving model to weights_best_cnn.hdf5\n",
            "Epoch 6/100\n",
            "56/56 [==============================] - 7s 122ms/step - loss: 0.6023 - accuracy: 0.8271 - val_loss: 0.4049 - val_accuracy: 0.9169\n",
            "\n",
            "Epoch 00006: val_accuracy improved from 0.90787 to 0.91685, saving model to weights_best_cnn.hdf5\n",
            "Epoch 7/100\n",
            "56/56 [==============================] - 7s 122ms/step - loss: 0.4619 - accuracy: 0.8537 - val_loss: 0.3488 - val_accuracy: 0.9281\n",
            "\n",
            "Epoch 00007: val_accuracy improved from 0.91685 to 0.92809, saving model to weights_best_cnn.hdf5\n",
            "Epoch 8/100\n",
            "56/56 [==============================] - 7s 123ms/step - loss: 0.4121 - accuracy: 0.8810 - val_loss: 0.3015 - val_accuracy: 0.9393\n",
            "\n",
            "Epoch 00008: val_accuracy improved from 0.92809 to 0.93933, saving model to weights_best_cnn.hdf5\n",
            "Epoch 9/100\n",
            "56/56 [==============================] - 7s 122ms/step - loss: 0.3794 - accuracy: 0.8857 - val_loss: 0.2771 - val_accuracy: 0.9348\n",
            "\n",
            "Epoch 00009: val_accuracy did not improve from 0.93933\n",
            "Epoch 10/100\n",
            "56/56 [==============================] - 7s 122ms/step - loss: 0.3194 - accuracy: 0.9020 - val_loss: 0.2626 - val_accuracy: 0.9438\n",
            "\n",
            "Epoch 00010: val_accuracy improved from 0.93933 to 0.94382, saving model to weights_best_cnn.hdf5\n",
            "Epoch 11/100\n",
            "56/56 [==============================] - 7s 122ms/step - loss: 0.2821 - accuracy: 0.9229 - val_loss: 0.2401 - val_accuracy: 0.9461\n",
            "\n",
            "Epoch 00011: val_accuracy improved from 0.94382 to 0.94607, saving model to weights_best_cnn.hdf5\n",
            "Epoch 12/100\n",
            "56/56 [==============================] - 7s 122ms/step - loss: 0.2478 - accuracy: 0.9234 - val_loss: 0.2277 - val_accuracy: 0.9506\n",
            "\n",
            "Epoch 00012: val_accuracy improved from 0.94607 to 0.95056, saving model to weights_best_cnn.hdf5\n",
            "Epoch 13/100\n",
            "56/56 [==============================] - 7s 122ms/step - loss: 0.2463 - accuracy: 0.9196 - val_loss: 0.2344 - val_accuracy: 0.9438\n",
            "\n",
            "Epoch 00013: val_accuracy did not improve from 0.95056\n",
            "Epoch 14/100\n",
            "56/56 [==============================] - 7s 120ms/step - loss: 0.2024 - accuracy: 0.9396 - val_loss: 0.2277 - val_accuracy: 0.9438\n",
            "\n",
            "Epoch 00014: val_accuracy did not improve from 0.95056\n",
            "Epoch 15/100\n",
            "56/56 [==============================] - 7s 123ms/step - loss: 0.1731 - accuracy: 0.9462 - val_loss: 0.2171 - val_accuracy: 0.9528\n",
            "\n",
            "Epoch 00015: val_accuracy improved from 0.95056 to 0.95281, saving model to weights_best_cnn.hdf5\n",
            "Epoch 16/100\n",
            "56/56 [==============================] - 7s 123ms/step - loss: 0.1769 - accuracy: 0.9424 - val_loss: 0.2120 - val_accuracy: 0.9483\n",
            "\n",
            "Epoch 00016: val_accuracy did not improve from 0.95281\n",
            "Epoch 17/100\n",
            "56/56 [==============================] - 7s 120ms/step - loss: 0.1585 - accuracy: 0.9506 - val_loss: 0.2161 - val_accuracy: 0.9461\n",
            "\n",
            "Epoch 00017: val_accuracy did not improve from 0.95281\n",
            "Epoch 18/100\n",
            "56/56 [==============================] - 7s 122ms/step - loss: 0.1366 - accuracy: 0.9589 - val_loss: 0.2154 - val_accuracy: 0.9438\n",
            "\n",
            "Epoch 00018: val_accuracy did not improve from 0.95281\n",
            "Epoch 19/100\n",
            "56/56 [==============================] - 7s 122ms/step - loss: 0.1311 - accuracy: 0.9549 - val_loss: 0.2227 - val_accuracy: 0.9393\n",
            "\n",
            "Epoch 00019: val_accuracy did not improve from 0.95281\n",
            "Epoch 20/100\n",
            "56/56 [==============================] - 7s 122ms/step - loss: 0.1386 - accuracy: 0.9604 - val_loss: 0.2109 - val_accuracy: 0.9461\n",
            "\n",
            "Epoch 00020: val_accuracy did not improve from 0.95281\n",
            "Epoch 00020: early stopping\n",
            "Elapsed 137.809 seconds.\n"
          ],
          "name": "stdout"
        }
      ]
    },
    {
      "cell_type": "code",
      "metadata": {
        "id": "0rL1-WZiSVau"
      },
      "source": [
        ""
      ],
      "execution_count": null,
      "outputs": []
    },
    {
      "cell_type": "code",
      "metadata": {
        "id": "bwPdRSyecO1k"
      },
      "source": [
        ""
      ],
      "execution_count": null,
      "outputs": []
    },
    {
      "cell_type": "code",
      "metadata": {
        "colab": {
          "base_uri": "https://localhost:8080/",
          "height": 826
        },
        "id": "Ej0a0Tfxcos6",
        "outputId": "c66bfd53-c6aa-4e35-d670-1d8e0b62bf2b"
      },
      "source": [
        "plot_graphs(hist1),loss_graph(hist1),acc_graph(hist1)"
      ],
      "execution_count": null,
      "outputs": [
        {
          "output_type": "display_data",
          "data": {
            "image/png": "[encoded data removed]",
            "text/plain": [
              "<Figure size 432x288 with 1 Axes>"
            ]
          },
          "metadata": {
            "tags": [],
            "needs_background": "light"
          }
        },
        {
          "output_type": "display_data",
          "data": {
            "image/png": "[encoded data removed]",
            "text/plain": [
              "<Figure size 432x288 with 1 Axes>"
            ]
          },
          "metadata": {
            "tags": [],
            "needs_background": "light"
          }
        },
        {
          "output_type": "display_data",
          "data": {
            "image/png": "[encoded data removed]",
            "text/plain": [
              "<Figure size 432x288 with 1 Axes>"
            ]
          },
          "metadata": {
            "tags": [],
            "needs_background": "light"
          }
        },
        {
          "output_type": "execute_result",
          "data": {
            "text/plain": [
              "(None, None, None)"
            ]
          },
          "metadata": {
            "tags": []
          },
          "execution_count": 140
        }
      ]
    },
    {
      "cell_type": "code",
      "metadata": {
        "id": "LiTQqhPzIC5W"
      },
      "source": [
        ""
      ],
      "execution_count": null,
      "outputs": []
    },
    {
      "cell_type": "code",
      "metadata": {
        "id": "82y7x2FYqdcx"
      },
      "source": [
        ""
      ],
      "execution_count": null,
      "outputs": []
    },
    {
      "cell_type": "code",
      "metadata": {
        "id": "RdTKDZ4-q_t-"
      },
      "source": [
        ""
      ],
      "execution_count": null,
      "outputs": []
    },
    {
      "cell_type": "code",
      "metadata": {
        "id": "r3neudGaIC8L"
      },
      "source": [
        ""
      ],
      "execution_count": null,
      "outputs": []
    },
    {
      "cell_type": "code",
      "metadata": {
        "id": "TgEse0lpIC-0"
      },
      "source": [
        ""
      ],
      "execution_count": null,
      "outputs": []
    },
    {
      "cell_type": "code",
      "metadata": {
        "colab": {
          "base_uri": "https://localhost:8080/"
        },
        "id": "GeaxDVujIDBZ",
        "outputId": "02dcb668-02c3-41cd-8c68-6c102eff2c24"
      },
      "source": [
        "# Now we make predictions using the test data to see how the model performs\n",
        "\n",
        "predicted = model.predict(validation_padded)\n",
        "evaluate_preds(np.argmax(validation_labels, axis=1), np.argmax(predicted, axis=1))\n"
      ],
      "execution_count": null,
      "outputs": [
        {
          "output_type": "stream",
          "text": [
            "Acc: 94.83%\n",
            "Precision: 0.95\n",
            "Recall: 0.95\n",
            "F1 score: 0.95\n"
          ],
          "name": "stdout"
        },
        {
          "output_type": "execute_result",
          "data": {
            "text/plain": [
              "{'accuracy': 0.95, 'f1': 0.95, 'precision': 0.95, 'recall': 0.95}"
            ]
          },
          "metadata": {
            "tags": []
          },
          "execution_count": 141
        }
      ]
    },
    {
      "cell_type": "code",
      "metadata": {
        "colab": {
          "base_uri": "https://localhost:8080/"
        },
        "id": "T8-9ESgTIDED",
        "outputId": "45d03e86-0278-43a4-fa52-6079399172e2"
      },
      "source": [
        "# Testing Random Text and Predicted Classes :\n",
        "\n",
        "original_text=raw_df['Text']\n",
        "text = original_text[18]\n",
        "new_text = [clean_text(text)]\n",
        "print(text)\n",
        "print(new_text)\n",
        "seq = tokenizer.texts_to_sequences(new_text)\n",
        "padded = pad_sequences(seq, maxlen=max_length, padding=padding_type, truncating=trunc_type)\n",
        "pred = model.predict(padded)\n",
        "acc = model.predict_proba(padded)\n",
        "predicted_label = encode.inverse_transform(pred)\n",
        "print('')\n",
        "print(f'Product category id: {np.argmax(pred[0])}')\n",
        "print(f'Predicted label is: {predicted_label[0]}')\n",
        "print(f'Accuracy score: { acc.max() * 100}')"
      ],
      "execution_count": null,
      "outputs": [
        {
          "output_type": "stream",
          "text": [
            "japanes bank battl end japan sumitomo mitsui financi withdrawn takeov offer rival bank ufj hold enabl latter merg mitsubishi tokyo sumitomo boss told counterpart ufj decis friday clear way conclud trillion yen bn deal mitsubishi deal would creat world biggest bank asset trillion yen trillion sumitomo eit end high profil fight japanes bank histori ufj hold japan fourthlargest bank centr fierc bid battl last year sumitomo japan thirdlargest bank tabl higher offer ufj rival valu compani bn howev ufj manag known prefer offer mitsubishi tokyo financi group mtfg japan secondlargest bank concern also rais sumitomo abil absorb ufj former admit defeat believ market investor accept ufjmtfg merger sumitomo said statement given ongo integr ufj mtfg oper persist propos may best interest sharehold ufj mitsubishi takeov ufj japan largestev takeov deal still approv sharehold two firm howev epect formal sumitomo may turn attent deepen tie daiwa secur anoth japanes financi firm two set merg ventur capit oper specul could lead fullblown merger japanes bank increasingli seek allianc boost profit\n",
            "['japan bank battl end japan sumitomo mitsui financ withdrawn takeov offer rival bank ufj hold enabl latter merg mitsubishi tokyo sumitomo boss told counterpart ufj deci friday clear way conclud trillion yen bn deal mitsubishi deal would creat world biggest bank asset trillion yen trillion sumitomo eit end high profil fight japan bank histori ufj hold japan fourthlargest bank centr fierc bid battl last year sumitomo japan thirdlargest bank tabl higher offer ufj rival valu compani bn howev ufj manag known prefer offer mitsubishi tokyo financ group mtfg japan secondlargest bank concern also rai sumitomo abil absorb ufj former admit defeat believ market investor accept ufjmtfg merger sumitomo said statement given ongo integr ufj mtfg oper persist propo may best interest sharehold ufj mitsubishi takeov ufj japan largestev takeov deal still approv sharehold two firm howev epect formal sumitomo may turn attent deepen tie daiwa secur anoth japan financ firm two set merg ventur capit oper specul could lead fullblown merger japan bank increasingli seek allianc boost profit']\n",
            "\n",
            "Product category id: 0\n",
            "Predicted label is: ['business']\n",
            "Accuracy score: 99.58274960517883\n"
          ],
          "name": "stdout"
        },
        {
          "output_type": "stream",
          "text": [
            "/usr/local/lib/python3.7/dist-packages/tensorflow/python/keras/engine/sequential.py:425: UserWarning: `model.predict_proba()` is deprecated and will be removed after 2021-01-01. Please use `model.predict()` instead.\n",
            "  warnings.warn('`model.predict_proba()` is deprecated and '\n"
          ],
          "name": "stderr"
        }
      ]
    },
    {
      "cell_type": "code",
      "metadata": {
        "id": "Ym5YOMZpIDk1"
      },
      "source": [
        ""
      ],
      "execution_count": null,
      "outputs": []
    },
    {
      "cell_type": "code",
      "metadata": {
        "id": "TYza2Rh9Mixc"
      },
      "source": [
        ""
      ],
      "execution_count": null,
      "outputs": []
    },
    {
      "cell_type": "code",
      "metadata": {
        "id": "RdfEai8IOsd9"
      },
      "source": [
        ""
      ],
      "execution_count": null,
      "outputs": []
    },
    {
      "cell_type": "code",
      "metadata": {
        "id": "UPrx-eB7OsiU"
      },
      "source": [
        ""
      ],
      "execution_count": null,
      "outputs": []
    },
    {
      "cell_type": "markdown",
      "metadata": {
        "id": "vWE0lFJeFVLx"
      },
      "source": [
        "2.Using LSTMs :"
      ]
    },
    {
      "cell_type": "code",
      "metadata": {
        "colab": {
          "base_uri": "https://localhost:8080/"
        },
        "id": "UQxiKpxVOslZ",
        "outputId": "ee16ed62-0328-4fe5-eac4-07d6f42628e4"
      },
      "source": [
        "# The maximum number of words to be used. (most frequent)\n",
        "vocab_size = 50000\n",
        "\n",
        "# Dimension of the dense embedding.\n",
        "embedding_dim = 128\n",
        "\n",
        "# Max number of words in each complaint.\n",
        "max_length = 200\n",
        "\n",
        "# Truncate and padding options\n",
        "trunc_type = 'post'\n",
        "padding_type = 'post'\n",
        "oov_tok = '<OOV>'\n",
        "\n",
        "\n",
        "model2 = Sequential()\n",
        "\n",
        "model2.add(Embedding(vocab_size, embedding_dim,input_length=train_padded.shape[1]))\n",
        "model2.add(Dropout(0.5))\n",
        "model2.add(LSTM(embedding_dim))\n",
        "model2.add(Dense(5, activation='softmax'))\n",
        "\n",
        "model2.summary()\n",
        "\n",
        "model2.compile(\n",
        "    loss='categorical_crossentropy',\n",
        "    optimizer='adam',\n",
        "    metrics=['accuracy'],\n",
        ")\n",
        "\n",
        "epochs = 100\n",
        "batch_size = 32\n",
        "filepath=\"weights_best_lstms.hdf5\"\n",
        "\n",
        "checkpoint = ModelCheckpoint(filepath, monitor='val_accuracy', verbose=1, save_best_only=True, mode='max',save_weights_only=True)\n",
        "callbacks_list = [checkpoint,EarlyStopping(monitor='val_accuracy', mode='max', patience=5, verbose=1)]\n",
        "\n",
        "\n",
        "history2 = model2.fit(train_padded, training_labels, shuffle=True ,\n",
        "                    epochs=epochs, batch_size=batch_size, \n",
        "                    callbacks=callbacks_list,validation_data=(validation_padded, validation_labels))\n",
        "hist2=history2"
      ],
      "execution_count": null,
      "outputs": [
        {
          "output_type": "stream",
          "text": [
            "Model: \"sequential_13\"\n",
            "_________________________________________________________________\n",
            "Layer (type)                 Output Shape              Param #   \n",
            "=================================================================\n",
            "embedding_13 (Embedding)     (None, 200, 128)          6400000   \n",
            "_________________________________________________________________\n",
            "dropout_14 (Dropout)         (None, 200, 128)          0         \n",
            "_________________________________________________________________\n",
            "lstm_8 (LSTM)                (None, 128)               131584    \n",
            "_________________________________________________________________\n",
            "dense_13 (Dense)             (None, 5)                 645       \n",
            "=================================================================\n",
            "Total params: 6,532,229\n",
            "Trainable params: 6,532,229\n",
            "Non-trainable params: 0\n",
            "_________________________________________________________________\n",
            "Epoch 1/100\n",
            "56/56 [==============================] - 17s 271ms/step - loss: 1.5505 - accuracy: 0.2787 - val_loss: 1.1930 - val_accuracy: 0.3955\n",
            "\n",
            "Epoch 00001: val_accuracy improved from -inf to 0.39551, saving model to weights_best_lstms.hdf5\n",
            "Epoch 2/100\n",
            "56/56 [==============================] - 15s 263ms/step - loss: 1.2656 - accuracy: 0.3737 - val_loss: 1.3572 - val_accuracy: 0.3281\n",
            "\n",
            "Epoch 00002: val_accuracy did not improve from 0.39551\n",
            "Epoch 3/100\n",
            "56/56 [==============================] - 15s 263ms/step - loss: 1.3022 - accuracy: 0.3432 - val_loss: 1.2718 - val_accuracy: 0.3371\n",
            "\n",
            "Epoch 00003: val_accuracy did not improve from 0.39551\n",
            "Epoch 4/100\n",
            "56/56 [==============================] - 15s 265ms/step - loss: 1.1846 - accuracy: 0.4170 - val_loss: 1.1724 - val_accuracy: 0.3865\n",
            "\n",
            "Epoch 00004: val_accuracy did not improve from 0.39551\n",
            "Epoch 5/100\n",
            "56/56 [==============================] - 15s 263ms/step - loss: 1.0827 - accuracy: 0.4853 - val_loss: 1.0961 - val_accuracy: 0.4157\n",
            "\n",
            "Epoch 00005: val_accuracy improved from 0.39551 to 0.41573, saving model to weights_best_lstms.hdf5\n",
            "Epoch 6/100\n",
            "56/56 [==============================] - 15s 264ms/step - loss: 0.9968 - accuracy: 0.5884 - val_loss: 1.0275 - val_accuracy: 0.4674\n",
            "\n",
            "Epoch 00006: val_accuracy improved from 0.41573 to 0.46742, saving model to weights_best_lstms.hdf5\n",
            "Epoch 7/100\n",
            "56/56 [==============================] - 15s 264ms/step - loss: 1.0639 - accuracy: 0.5380 - val_loss: 1.1037 - val_accuracy: 0.5528\n",
            "\n",
            "Epoch 00007: val_accuracy improved from 0.46742 to 0.55281, saving model to weights_best_lstms.hdf5\n",
            "Epoch 8/100\n",
            "56/56 [==============================] - 15s 262ms/step - loss: 0.9231 - accuracy: 0.6328 - val_loss: 0.8330 - val_accuracy: 0.7079\n",
            "\n",
            "Epoch 00008: val_accuracy improved from 0.55281 to 0.70787, saving model to weights_best_lstms.hdf5\n",
            "Epoch 9/100\n",
            "56/56 [==============================] - 15s 262ms/step - loss: 0.6862 - accuracy: 0.7552 - val_loss: 0.9362 - val_accuracy: 0.6157\n",
            "\n",
            "Epoch 00009: val_accuracy did not improve from 0.70787\n",
            "Epoch 10/100\n",
            "56/56 [==============================] - 15s 262ms/step - loss: 0.7359 - accuracy: 0.7071 - val_loss: 0.8019 - val_accuracy: 0.7056\n",
            "\n",
            "Epoch 00010: val_accuracy did not improve from 0.70787\n",
            "Epoch 11/100\n",
            "56/56 [==============================] - 15s 264ms/step - loss: 0.6572 - accuracy: 0.7314 - val_loss: 0.8009 - val_accuracy: 0.6427\n",
            "\n",
            "Epoch 00011: val_accuracy did not improve from 0.70787\n",
            "Epoch 12/100\n",
            "56/56 [==============================] - 15s 264ms/step - loss: 0.5740 - accuracy: 0.7627 - val_loss: 0.6839 - val_accuracy: 0.7146\n",
            "\n",
            "Epoch 00012: val_accuracy improved from 0.70787 to 0.71461, saving model to weights_best_lstms.hdf5\n",
            "Epoch 13/100\n",
            "56/56 [==============================] - 15s 263ms/step - loss: 0.4709 - accuracy: 0.8014 - val_loss: 0.5885 - val_accuracy: 0.7438\n",
            "\n",
            "Epoch 00013: val_accuracy improved from 0.71461 to 0.74382, saving model to weights_best_lstms.hdf5\n",
            "Epoch 14/100\n",
            "56/56 [==============================] - 15s 263ms/step - loss: 0.4819 - accuracy: 0.7902 - val_loss: 0.5545 - val_accuracy: 0.7798\n",
            "\n",
            "Epoch 00014: val_accuracy improved from 0.74382 to 0.77978, saving model to weights_best_lstms.hdf5\n",
            "Epoch 15/100\n",
            "56/56 [==============================] - 15s 262ms/step - loss: 0.4332 - accuracy: 0.8129 - val_loss: 0.9153 - val_accuracy: 0.6045\n",
            "\n",
            "Epoch 00015: val_accuracy did not improve from 0.77978\n",
            "Epoch 16/100\n",
            "56/56 [==============================] - 15s 263ms/step - loss: 0.6663 - accuracy: 0.7120 - val_loss: 0.8493 - val_accuracy: 0.5798\n",
            "\n",
            "Epoch 00016: val_accuracy did not improve from 0.77978\n",
            "Epoch 17/100\n",
            "56/56 [==============================] - 15s 262ms/step - loss: 0.5739 - accuracy: 0.7377 - val_loss: 0.7075 - val_accuracy: 0.7011\n",
            "\n",
            "Epoch 00017: val_accuracy did not improve from 0.77978\n",
            "Epoch 18/100\n",
            "56/56 [==============================] - 15s 262ms/step - loss: 0.3780 - accuracy: 0.8166 - val_loss: 0.6689 - val_accuracy: 0.7640\n",
            "\n",
            "Epoch 00018: val_accuracy did not improve from 0.77978\n",
            "Epoch 19/100\n",
            "56/56 [==============================] - 15s 262ms/step - loss: 0.3590 - accuracy: 0.8461 - val_loss: 0.7000 - val_accuracy: 0.7348\n",
            "\n",
            "Epoch 00019: val_accuracy did not improve from 0.77978\n",
            "Epoch 00019: early stopping\n"
          ],
          "name": "stdout"
        }
      ]
    },
    {
      "cell_type": "code",
      "metadata": {
        "colab": {
          "base_uri": "https://localhost:8080/",
          "height": 826
        },
        "id": "sK89yEgShL65",
        "outputId": "04b17f50-cbfa-478f-9f1d-1ec9cac93e26"
      },
      "source": [
        "plot_graphs(hist2),loss_graph(hist2),acc_graph(hist2)"
      ],
      "execution_count": null,
      "outputs": [
        {
          "output_type": "display_data",
          "data": {
            "image/png": "[encoded data removed]",
            "text/plain": [
              "<Figure size 432x288 with 1 Axes>"
            ]
          },
          "metadata": {
            "tags": [],
            "needs_background": "light"
          }
        },
        {
          "output_type": "display_data",
          "data": {
            "image/png": "[encoded data removed]",
            "text/plain": [
              "<Figure size 432x288 with 1 Axes>"
            ]
          },
          "metadata": {
            "tags": [],
            "needs_background": "light"
          }
        },
        {
          "output_type": "display_data",
          "data": {
            "image/png": "[encoded data removed]",
            "text/plain": [
              "<Figure size 432x288 with 1 Axes>"
            ]
          },
          "metadata": {
            "tags": [],
            "needs_background": "light"
          }
        },
        {
          "output_type": "execute_result",
          "data": {
            "text/plain": [
              "(None, None, None)"
            ]
          },
          "metadata": {
            "tags": []
          },
          "execution_count": 144
        }
      ]
    },
    {
      "cell_type": "code",
      "metadata": {
        "colab": {
          "base_uri": "https://localhost:8080/"
        },
        "id": "nL2HNZ2whMAv",
        "outputId": "e6402bc7-c01b-426b-b23d-797e0981ca67"
      },
      "source": [
        "predicted = model2.predict(validation_padded)\n",
        "evaluate_preds(np.argmax(validation_labels, axis=1), np.argmax(predicted, axis=1))"
      ],
      "execution_count": null,
      "outputs": [
        {
          "output_type": "stream",
          "text": [
            "Acc: 73.48%\n",
            "Precision: 0.73\n",
            "Recall: 0.73\n",
            "F1 score: 0.73\n"
          ],
          "name": "stdout"
        },
        {
          "output_type": "execute_result",
          "data": {
            "text/plain": [
              "{'accuracy': 0.73, 'f1': 0.73, 'precision': 0.73, 'recall': 0.73}"
            ]
          },
          "metadata": {
            "tags": []
          },
          "execution_count": 145
        }
      ]
    },
    {
      "cell_type": "markdown",
      "metadata": {
        "id": "GEXV_pNMJsQU"
      },
      "source": [
        "3.Using Bi-Directional LSTMs :"
      ]
    },
    {
      "cell_type": "code",
      "metadata": {
        "colab": {
          "base_uri": "https://localhost:8080/"
        },
        "id": "pysp4Lh5Hcq0",
        "outputId": "ad7a4ab5-1e1a-4897-afbe-7fb7f544479c"
      },
      "source": [
        "# The maximum number of words to be used. (most frequent)\n",
        "vocab_size = 50000\n",
        "\n",
        "# Dimension of the dense embedding.\n",
        "embedding_dim = 128\n",
        "\n",
        "# Max number of words in each complaint.\n",
        "max_length = 200\n",
        "\n",
        "# Truncate and padding options\n",
        "trunc_type = 'post'\n",
        "padding_type = 'post'\n",
        "oov_tok = '<OOV>'\n",
        "\n",
        "\n",
        "model3 = Sequential()\n",
        "\n",
        "model3.add(Embedding(vocab_size, embedding_dim,input_length=train_padded.shape[1]))\n",
        "model3.add(Dropout(0.5))\n",
        "model3.add(Bidirectional(LSTM(embedding_dim)))\n",
        "model3.add(Dense(5, activation='softmax'))\n",
        "\n",
        "model3.summary()\n",
        "\n",
        "model3.compile(\n",
        "    loss='categorical_crossentropy',\n",
        "    optimizer='adam',\n",
        "    metrics=['accuracy'],\n",
        ")\n",
        "\n",
        "epochs = 100\n",
        "batch_size = 32\n",
        "filepath=\"weights_best_bi_lstms.hdf5\"\n",
        "\n",
        "checkpoint = ModelCheckpoint(filepath, monitor='val_accuracy', verbose=1, save_best_only=True, mode='max',save_weights_only=True)\n",
        "callbacks_list = [checkpoint,EarlyStopping(monitor='val_accuracy', mode='max', patience=5, verbose=1)]\n",
        "\n",
        "\n",
        "history3 = model3.fit(train_padded, training_labels, shuffle=True ,\n",
        "                    epochs=epochs, batch_size=batch_size, \n",
        "                    callbacks=callbacks_list,validation_data=(validation_padded, validation_labels))\n",
        "hist3=history3"
      ],
      "execution_count": null,
      "outputs": [
        {
          "output_type": "stream",
          "text": [
            "Model: \"sequential_14\"\n",
            "_________________________________________________________________\n",
            "Layer (type)                 Output Shape              Param #   \n",
            "=================================================================\n",
            "embedding_14 (Embedding)     (None, 200, 128)          6400000   \n",
            "_________________________________________________________________\n",
            "dropout_15 (Dropout)         (None, 200, 128)          0         \n",
            "_________________________________________________________________\n",
            "bidirectional_4 (Bidirection (None, 256)               263168    \n",
            "_________________________________________________________________\n",
            "dense_14 (Dense)             (None, 5)                 1285      \n",
            "=================================================================\n",
            "Total params: 6,664,453\n",
            "Trainable params: 6,664,453\n",
            "Non-trainable params: 0\n",
            "_________________________________________________________________\n",
            "Epoch 1/100\n",
            "56/56 [==============================] - 31s 502ms/step - loss: 1.5314 - accuracy: 0.2994 - val_loss: 1.0781 - val_accuracy: 0.6180\n",
            "\n",
            "Epoch 00001: val_accuracy improved from -inf to 0.61798, saving model to weights_best_bi_lstms.hdf5\n",
            "Epoch 2/100\n",
            "56/56 [==============================] - 27s 489ms/step - loss: 0.7529 - accuracy: 0.7276 - val_loss: 0.8574 - val_accuracy: 0.6921\n",
            "\n",
            "Epoch 00002: val_accuracy improved from 0.61798 to 0.69213, saving model to weights_best_bi_lstms.hdf5\n",
            "Epoch 3/100\n",
            "56/56 [==============================] - 27s 490ms/step - loss: 0.4731 - accuracy: 0.8468 - val_loss: 0.4046 - val_accuracy: 0.8966\n",
            "\n",
            "Epoch 00003: val_accuracy improved from 0.69213 to 0.89663, saving model to weights_best_bi_lstms.hdf5\n",
            "Epoch 4/100\n",
            "56/56 [==============================] - 27s 488ms/step - loss: 0.1400 - accuracy: 0.9628 - val_loss: 0.1905 - val_accuracy: 0.9438\n",
            "\n",
            "Epoch 00004: val_accuracy improved from 0.89663 to 0.94382, saving model to weights_best_bi_lstms.hdf5\n",
            "Epoch 5/100\n",
            "56/56 [==============================] - 27s 486ms/step - loss: 0.0354 - accuracy: 0.9939 - val_loss: 0.1851 - val_accuracy: 0.9483\n",
            "\n",
            "Epoch 00005: val_accuracy improved from 0.94382 to 0.94831, saving model to weights_best_bi_lstms.hdf5\n",
            "Epoch 6/100\n",
            "56/56 [==============================] - 27s 488ms/step - loss: 0.0265 - accuracy: 0.9933 - val_loss: 0.2030 - val_accuracy: 0.9371\n",
            "\n",
            "Epoch 00006: val_accuracy did not improve from 0.94831\n",
            "Epoch 7/100\n",
            "56/56 [==============================] - 27s 489ms/step - loss: 0.0098 - accuracy: 0.9987 - val_loss: 0.1622 - val_accuracy: 0.9573\n",
            "\n",
            "Epoch 00007: val_accuracy improved from 0.94831 to 0.95730, saving model to weights_best_bi_lstms.hdf5\n",
            "Epoch 8/100\n",
            "56/56 [==============================] - 28s 492ms/step - loss: 0.0033 - accuracy: 1.0000 - val_loss: 0.2086 - val_accuracy: 0.9483\n",
            "\n",
            "Epoch 00008: val_accuracy did not improve from 0.95730\n",
            "Epoch 9/100\n",
            "56/56 [==============================] - 28s 497ms/step - loss: 0.0031 - accuracy: 0.9988 - val_loss: 0.2126 - val_accuracy: 0.9483\n",
            "\n",
            "Epoch 00009: val_accuracy did not improve from 0.95730\n",
            "Epoch 10/100\n",
            "56/56 [==============================] - 28s 501ms/step - loss: 0.0064 - accuracy: 0.9994 - val_loss: 0.1877 - val_accuracy: 0.9326\n",
            "\n",
            "Epoch 00010: val_accuracy did not improve from 0.95730\n",
            "Epoch 11/100\n",
            "56/56 [==============================] - 28s 499ms/step - loss: 0.0128 - accuracy: 1.0000 - val_loss: 0.1699 - val_accuracy: 0.9506\n",
            "\n",
            "Epoch 00011: val_accuracy did not improve from 0.95730\n",
            "Epoch 12/100\n",
            "56/56 [==============================] - 27s 486ms/step - loss: 0.0013 - accuracy: 1.0000 - val_loss: 0.1939 - val_accuracy: 0.9483\n",
            "\n",
            "Epoch 00012: val_accuracy did not improve from 0.95730\n",
            "Epoch 00012: early stopping\n"
          ],
          "name": "stdout"
        }
      ]
    },
    {
      "cell_type": "code",
      "metadata": {
        "id": "FQY4w5hZhdCL"
      },
      "source": [
        ""
      ],
      "execution_count": null,
      "outputs": []
    },
    {
      "cell_type": "code",
      "metadata": {
        "colab": {
          "base_uri": "https://localhost:8080/",
          "height": 826
        },
        "id": "dypy7squhdx0",
        "outputId": "c6bf15fa-17be-4164-f92d-ac629b84ee45"
      },
      "source": [
        "plot_graphs(hist3),loss_graph(hist3),acc_graph(hist3)"
      ],
      "execution_count": null,
      "outputs": [
        {
          "output_type": "display_data",
          "data": {
            "image/png": "[encoded data removed]",
            "text/plain": [
              "<Figure size 432x288 with 1 Axes>"
            ]
          },
          "metadata": {
            "tags": [],
            "needs_background": "light"
          }
        },
        {
          "output_type": "display_data",
          "data": {
            "image/png": "[encoded data removed]",
            "text/plain": [
              "<Figure size 432x288 with 1 Axes>"
            ]
          },
          "metadata": {
            "tags": [],
            "needs_background": "light"
          }
        },
        {
          "output_type": "display_data",
          "data": {
            "image/png": "[encoded data removed]",
            "text/plain": [
              "<Figure size 432x288 with 1 Axes>"
            ]
          },
          "metadata": {
            "tags": [],
            "needs_background": "light"
          }
        },
        {
          "output_type": "execute_result",
          "data": {
            "text/plain": [
              "(None, None, None)"
            ]
          },
          "metadata": {
            "tags": []
          },
          "execution_count": 147
        }
      ]
    },
    {
      "cell_type": "code",
      "metadata": {
        "colab": {
          "base_uri": "https://localhost:8080/"
        },
        "id": "G9y4XXHihdx0",
        "outputId": "4e4992a0-a2ff-4f43-9f19-d4183ee151f0"
      },
      "source": [
        "predicted = model3.predict(validation_padded)\n",
        "evaluate_preds(np.argmax(validation_labels, axis=1), np.argmax(predicted, axis=1))"
      ],
      "execution_count": null,
      "outputs": [
        {
          "output_type": "stream",
          "text": [
            "Acc: 94.83%\n",
            "Precision: 0.95\n",
            "Recall: 0.95\n",
            "F1 score: 0.95\n"
          ],
          "name": "stdout"
        },
        {
          "output_type": "execute_result",
          "data": {
            "text/plain": [
              "{'accuracy': 0.95, 'f1': 0.95, 'precision': 0.95, 'recall': 0.95}"
            ]
          },
          "metadata": {
            "tags": []
          },
          "execution_count": 148
        }
      ]
    },
    {
      "cell_type": "code",
      "metadata": {
        "id": "YH0prnJOhdFc"
      },
      "source": [
        ""
      ],
      "execution_count": null,
      "outputs": []
    },
    {
      "cell_type": "markdown",
      "metadata": {
        "id": "mxtz4U2kJywL"
      },
      "source": [
        "4.Using CNN1D + LSTMs :"
      ]
    },
    {
      "cell_type": "code",
      "metadata": {
        "colab": {
          "base_uri": "https://localhost:8080/"
        },
        "id": "tf6kxbgzIDng",
        "outputId": "f368ddc8-b64e-4b52-81c4-ec2c0fbf96bf"
      },
      "source": [
        "# The maximum number of words to be used. (most frequent)\n",
        "vocab_size = 50000\n",
        "\n",
        "# Dimension of the dense embedding.\n",
        "embedding_dim = 128\n",
        "\n",
        "# Max number of words in each complaint.\n",
        "max_length = 200\n",
        "\n",
        "# Truncate and padding options\n",
        "trunc_type = 'post'\n",
        "padding_type = 'post'\n",
        "oov_tok = '<OOV>'\n",
        "\n",
        "\n",
        "model4 = Sequential()\n",
        "\n",
        "model4.add(Embedding(vocab_size, embedding_dim,input_length=train_padded.shape[1]))\n",
        "model4.add(Conv1D(filters=32, kernel_size=3, padding='same', activation='relu'))\n",
        "model4.add(MaxPooling1D(pool_size=2))\n",
        "model4.add(LSTM(embedding_dim))\n",
        "model4.add(Dense(5, activation='softmax'))\n",
        "\n",
        "model4.summary()\n",
        "\n",
        "model4.compile(\n",
        "    loss='categorical_crossentropy',\n",
        "    optimizer='adam',\n",
        "    metrics=['accuracy'],\n",
        ")\n",
        "\n",
        "epochs = 100\n",
        "batch_size = 32\n",
        "filepath=\"weights_best_lstms_n_cnn.hdf5\"\n",
        "\n",
        "checkpoint = ModelCheckpoint(filepath, monitor='val_accuracy', verbose=1, save_best_only=True, mode='max',save_weights_only=True)\n",
        "callbacks_list = [checkpoint,EarlyStopping(monitor='val_accuracy', mode='max', patience=5, verbose=1)]\n",
        "\n",
        "\n",
        "history4 = model4.fit(train_padded, training_labels, shuffle=True ,\n",
        "                    epochs=epochs, batch_size=batch_size, \n",
        "                    callbacks=callbacks_list,validation_data=(validation_padded, validation_labels))\n",
        "hist4=history4"
      ],
      "execution_count": null,
      "outputs": [
        {
          "output_type": "stream",
          "text": [
            "Model: \"sequential_15\"\n",
            "_________________________________________________________________\n",
            "Layer (type)                 Output Shape              Param #   \n",
            "=================================================================\n",
            "embedding_15 (Embedding)     (None, 200, 128)          6400000   \n",
            "_________________________________________________________________\n",
            "conv1d_9 (Conv1D)            (None, 200, 32)           12320     \n",
            "_________________________________________________________________\n",
            "max_pooling1d_4 (MaxPooling1 (None, 100, 32)           0         \n",
            "_________________________________________________________________\n",
            "lstm_10 (LSTM)               (None, 128)               82432     \n",
            "_________________________________________________________________\n",
            "dense_15 (Dense)             (None, 5)                 645       \n",
            "=================================================================\n",
            "Total params: 6,495,397\n",
            "Trainable params: 6,495,397\n",
            "Non-trainable params: 0\n",
            "_________________________________________________________________\n",
            "Epoch 1/100\n",
            "56/56 [==============================] - 11s 169ms/step - loss: 1.4896 - accuracy: 0.3068 - val_loss: 1.1195 - val_accuracy: 0.4067\n",
            "\n",
            "Epoch 00001: val_accuracy improved from -inf to 0.40674, saving model to weights_best_lstms_n_cnn.hdf5\n",
            "Epoch 2/100\n",
            "56/56 [==============================] - 9s 159ms/step - loss: 1.0452 - accuracy: 0.4638 - val_loss: 1.0037 - val_accuracy: 0.4876\n",
            "\n",
            "Epoch 00002: val_accuracy improved from 0.40674 to 0.48764, saving model to weights_best_lstms_n_cnn.hdf5\n",
            "Epoch 3/100\n",
            "56/56 [==============================] - 9s 157ms/step - loss: 0.9298 - accuracy: 0.5437 - val_loss: 0.9698 - val_accuracy: 0.5303\n",
            "\n",
            "Epoch 00003: val_accuracy improved from 0.48764 to 0.53034, saving model to weights_best_lstms_n_cnn.hdf5\n",
            "Epoch 4/100\n",
            "56/56 [==============================] - 9s 157ms/step - loss: 0.8200 - accuracy: 0.6005 - val_loss: 0.8860 - val_accuracy: 0.6135\n",
            "\n",
            "Epoch 00004: val_accuracy improved from 0.53034 to 0.61348, saving model to weights_best_lstms_n_cnn.hdf5\n",
            "Epoch 5/100\n",
            "56/56 [==============================] - 9s 158ms/step - loss: 0.7186 - accuracy: 0.6659 - val_loss: 0.8666 - val_accuracy: 0.6270\n",
            "\n",
            "Epoch 00005: val_accuracy improved from 0.61348 to 0.62697, saving model to weights_best_lstms_n_cnn.hdf5\n",
            "Epoch 6/100\n",
            "56/56 [==============================] - 9s 159ms/step - loss: 0.6052 - accuracy: 0.7385 - val_loss: 0.6848 - val_accuracy: 0.7101\n",
            "\n",
            "Epoch 00006: val_accuracy improved from 0.62697 to 0.71011, saving model to weights_best_lstms_n_cnn.hdf5\n",
            "Epoch 7/100\n",
            "56/56 [==============================] - 9s 159ms/step - loss: 0.4628 - accuracy: 0.7897 - val_loss: 0.5785 - val_accuracy: 0.7236\n",
            "\n",
            "Epoch 00007: val_accuracy improved from 0.71011 to 0.72360, saving model to weights_best_lstms_n_cnn.hdf5\n",
            "Epoch 8/100\n",
            "56/56 [==============================] - 9s 158ms/step - loss: 0.6813 - accuracy: 0.7224 - val_loss: 0.7456 - val_accuracy: 0.6719\n",
            "\n",
            "Epoch 00008: val_accuracy did not improve from 0.72360\n",
            "Epoch 9/100\n",
            "56/56 [==============================] - 9s 158ms/step - loss: 0.5195 - accuracy: 0.7691 - val_loss: 0.6660 - val_accuracy: 0.7393\n",
            "\n",
            "Epoch 00009: val_accuracy improved from 0.72360 to 0.73933, saving model to weights_best_lstms_n_cnn.hdf5\n",
            "Epoch 10/100\n",
            "56/56 [==============================] - 9s 158ms/step - loss: 0.4006 - accuracy: 0.8180 - val_loss: 0.6438 - val_accuracy: 0.7506\n",
            "\n",
            "Epoch 00010: val_accuracy improved from 0.73933 to 0.75056, saving model to weights_best_lstms_n_cnn.hdf5\n",
            "Epoch 11/100\n",
            "56/56 [==============================] - 9s 158ms/step - loss: 0.2913 - accuracy: 0.8750 - val_loss: 0.6441 - val_accuracy: 0.7506\n",
            "\n",
            "Epoch 00011: val_accuracy did not improve from 0.75056\n",
            "Epoch 12/100\n",
            "56/56 [==============================] - 9s 157ms/step - loss: 0.2696 - accuracy: 0.9061 - val_loss: 0.6376 - val_accuracy: 0.7753\n",
            "\n",
            "Epoch 00012: val_accuracy improved from 0.75056 to 0.77528, saving model to weights_best_lstms_n_cnn.hdf5\n",
            "Epoch 13/100\n",
            "56/56 [==============================] - 9s 159ms/step - loss: 0.2215 - accuracy: 0.9235 - val_loss: 0.6181 - val_accuracy: 0.7933\n",
            "\n",
            "Epoch 00013: val_accuracy improved from 0.77528 to 0.79326, saving model to weights_best_lstms_n_cnn.hdf5\n",
            "Epoch 14/100\n",
            "56/56 [==============================] - 9s 159ms/step - loss: 0.0835 - accuracy: 0.9785 - val_loss: 0.5713 - val_accuracy: 0.8292\n",
            "\n",
            "Epoch 00014: val_accuracy improved from 0.79326 to 0.82921, saving model to weights_best_lstms_n_cnn.hdf5\n",
            "Epoch 15/100\n",
            "56/56 [==============================] - 9s 157ms/step - loss: 0.0346 - accuracy: 0.9922 - val_loss: 0.5993 - val_accuracy: 0.8382\n",
            "\n",
            "Epoch 00015: val_accuracy improved from 0.82921 to 0.83820, saving model to weights_best_lstms_n_cnn.hdf5\n",
            "Epoch 16/100\n",
            "56/56 [==============================] - 9s 159ms/step - loss: 0.0197 - accuracy: 0.9982 - val_loss: 0.6284 - val_accuracy: 0.8472\n",
            "\n",
            "Epoch 00016: val_accuracy improved from 0.83820 to 0.84719, saving model to weights_best_lstms_n_cnn.hdf5\n",
            "Epoch 17/100\n",
            "56/56 [==============================] - 9s 156ms/step - loss: 0.0133 - accuracy: 0.9968 - val_loss: 0.6857 - val_accuracy: 0.8360\n",
            "\n",
            "Epoch 00017: val_accuracy did not improve from 0.84719\n",
            "Epoch 18/100\n",
            "56/56 [==============================] - 9s 158ms/step - loss: 0.0176 - accuracy: 0.9980 - val_loss: 0.6744 - val_accuracy: 0.8449\n",
            "\n",
            "Epoch 00018: val_accuracy did not improve from 0.84719\n",
            "Epoch 19/100\n",
            "56/56 [==============================] - 9s 159ms/step - loss: 0.0056 - accuracy: 0.9997 - val_loss: 0.6854 - val_accuracy: 0.8494\n",
            "\n",
            "Epoch 00019: val_accuracy improved from 0.84719 to 0.84944, saving model to weights_best_lstms_n_cnn.hdf5\n",
            "Epoch 20/100\n",
            "56/56 [==============================] - 9s 159ms/step - loss: 0.0089 - accuracy: 0.9990 - val_loss: 0.6969 - val_accuracy: 0.8517\n",
            "\n",
            "Epoch 00020: val_accuracy improved from 0.84944 to 0.85169, saving model to weights_best_lstms_n_cnn.hdf5\n",
            "Epoch 21/100\n",
            "56/56 [==============================] - 9s 158ms/step - loss: 0.0038 - accuracy: 0.9998 - val_loss: 0.7169 - val_accuracy: 0.8494\n",
            "\n",
            "Epoch 00021: val_accuracy did not improve from 0.85169\n",
            "Epoch 22/100\n",
            "56/56 [==============================] - 9s 159ms/step - loss: 0.0023 - accuracy: 0.9999 - val_loss: 0.7329 - val_accuracy: 0.8494\n",
            "\n",
            "Epoch 00022: val_accuracy did not improve from 0.85169\n",
            "Epoch 23/100\n",
            "56/56 [==============================] - 9s 158ms/step - loss: 0.0058 - accuracy: 0.9993 - val_loss: 0.7323 - val_accuracy: 0.8517\n",
            "\n",
            "Epoch 00023: val_accuracy did not improve from 0.85169\n",
            "Epoch 24/100\n",
            "56/56 [==============================] - 9s 159ms/step - loss: 0.0022 - accuracy: 0.9999 - val_loss: 0.7516 - val_accuracy: 0.8494\n",
            "\n",
            "Epoch 00024: val_accuracy did not improve from 0.85169\n",
            "Epoch 25/100\n",
            "56/56 [==============================] - 9s 158ms/step - loss: 0.0050 - accuracy: 0.9993 - val_loss: 0.7523 - val_accuracy: 0.8539\n",
            "\n",
            "Epoch 00025: val_accuracy improved from 0.85169 to 0.85393, saving model to weights_best_lstms_n_cnn.hdf5\n",
            "Epoch 26/100\n",
            "56/56 [==============================] - 9s 158ms/step - loss: 0.0052 - accuracy: 0.9993 - val_loss: 0.7656 - val_accuracy: 0.8517\n",
            "\n",
            "Epoch 00026: val_accuracy did not improve from 0.85393\n",
            "Epoch 27/100\n",
            "56/56 [==============================] - 9s 159ms/step - loss: 0.0057 - accuracy: 0.9992 - val_loss: 0.7766 - val_accuracy: 0.8584\n",
            "\n",
            "Epoch 00027: val_accuracy improved from 0.85393 to 0.85843, saving model to weights_best_lstms_n_cnn.hdf5\n",
            "Epoch 28/100\n",
            "56/56 [==============================] - 9s 158ms/step - loss: 0.0033 - accuracy: 0.9996 - val_loss: 0.7946 - val_accuracy: 0.8494\n",
            "\n",
            "Epoch 00028: val_accuracy did not improve from 0.85843\n",
            "Epoch 29/100\n",
            "56/56 [==============================] - 9s 158ms/step - loss: 0.0015 - accuracy: 0.9999 - val_loss: 0.8220 - val_accuracy: 0.8494\n",
            "\n",
            "Epoch 00029: val_accuracy did not improve from 0.85843\n",
            "Epoch 30/100\n",
            "56/56 [==============================] - 9s 159ms/step - loss: 0.0020 - accuracy: 0.9998 - val_loss: 0.8020 - val_accuracy: 0.8494\n",
            "\n",
            "Epoch 00030: val_accuracy did not improve from 0.85843\n",
            "Epoch 31/100\n",
            "56/56 [==============================] - 9s 159ms/step - loss: 0.0036 - accuracy: 0.9993 - val_loss: 0.8296 - val_accuracy: 0.8584\n",
            "\n",
            "Epoch 00031: val_accuracy did not improve from 0.85843\n",
            "Epoch 32/100\n",
            "56/56 [==============================] - 9s 160ms/step - loss: 0.0291 - accuracy: 0.9908 - val_loss: 0.7380 - val_accuracy: 0.7910\n",
            "\n",
            "Epoch 00032: val_accuracy did not improve from 0.85843\n",
            "Epoch 00032: early stopping\n"
          ],
          "name": "stdout"
        }
      ]
    },
    {
      "cell_type": "code",
      "metadata": {
        "colab": {
          "base_uri": "https://localhost:8080/",
          "height": 826
        },
        "id": "9LUtDNfShfMl",
        "outputId": "a6d094bb-69d1-48a7-98a4-f9a9781fabbf"
      },
      "source": [
        "plot_graphs(hist4),loss_graph(hist4),acc_graph(hist4)"
      ],
      "execution_count": null,
      "outputs": [
        {
          "output_type": "display_data",
          "data": {
            "image/png": "[encoded data removed]",
            "text/plain": [
              "<Figure size 432x288 with 1 Axes>"
            ]
          },
          "metadata": {
            "tags": [],
            "needs_background": "light"
          }
        },
        {
          "output_type": "display_data",
          "data": {
            "image/png": "[encoded data removed]",
            "text/plain": [
              "<Figure size 432x288 with 1 Axes>"
            ]
          },
          "metadata": {
            "tags": [],
            "needs_background": "light"
          }
        },
        {
          "output_type": "display_data",
          "data": {
            "image/png": "[encoded data removed]",
            "text/plain": [
              "<Figure size 432x288 with 1 Axes>"
            ]
          },
          "metadata": {
            "tags": [],
            "needs_background": "light"
          }
        },
        {
          "output_type": "execute_result",
          "data": {
            "text/plain": [
              "(None, None, None)"
            ]
          },
          "metadata": {
            "tags": []
          },
          "execution_count": 150
        }
      ]
    },
    {
      "cell_type": "code",
      "metadata": {
        "colab": {
          "base_uri": "https://localhost:8080/"
        },
        "id": "ahjZiIlehfMm",
        "outputId": "49d7d5cd-7d67-409c-8809-340534512d71"
      },
      "source": [
        "predicted = model4.predict(validation_padded)\n",
        "evaluate_preds(np.argmax(validation_labels, axis=1), np.argmax(predicted, axis=1))"
      ],
      "execution_count": null,
      "outputs": [
        {
          "output_type": "stream",
          "text": [
            "Acc: 79.10%\n",
            "Precision: 0.79\n",
            "Recall: 0.79\n",
            "F1 score: 0.79\n"
          ],
          "name": "stdout"
        },
        {
          "output_type": "execute_result",
          "data": {
            "text/plain": [
              "{'accuracy': 0.79, 'f1': 0.79, 'precision': 0.79, 'recall': 0.79}"
            ]
          },
          "metadata": {
            "tags": []
          },
          "execution_count": 151
        }
      ]
    },
    {
      "cell_type": "markdown",
      "metadata": {
        "id": "hX3KC2CxLmgY"
      },
      "source": [
        "5.Using Bi_LSTMs + CNN1D :"
      ]
    },
    {
      "cell_type": "code",
      "metadata": {
        "colab": {
          "base_uri": "https://localhost:8080/"
        },
        "id": "J2skTYiVIDp2",
        "outputId": "163207f0-3902-456b-c86b-f1f91fec611f"
      },
      "source": [
        "# The maximum number of words to be used. (most frequent)\n",
        "vocab_size = 50000\n",
        "\n",
        "# Dimension of the dense embedding.\n",
        "embedding_dim = 128\n",
        "\n",
        "# Max number of words in each complaint.\n",
        "max_length = 200\n",
        "\n",
        "# Truncate and padding options\n",
        "trunc_type = 'post'\n",
        "padding_type = 'post'\n",
        "oov_tok = '<OOV>'\n",
        "\n",
        "\n",
        "model5 = Sequential()\n",
        "\n",
        "model5.add(Embedding(vocab_size, embedding_dim,input_length=train_padded.shape[1]))\n",
        "model5.add(Conv1D(filters=32, kernel_size=3, padding='same', activation='relu'))\n",
        "model5.add(MaxPooling1D(pool_size=2))\n",
        "model5.add(Bidirectional(LSTM(embedding_dim)))\n",
        "model5.add(Dense(5, activation='softmax'))\n",
        "\n",
        "model5.summary()\n",
        "\n",
        "model5.compile(\n",
        "    loss='categorical_crossentropy',\n",
        "    optimizer='adam',\n",
        "    metrics=['accuracy'],\n",
        ")\n",
        "\n",
        "epochs = 100\n",
        "batch_size = 32\n",
        "filepath=\"weights_best_bi_lstms_n_cnn.hdf5\"\n",
        "\n",
        "checkpoint = ModelCheckpoint(filepath, monitor='val_accuracy', verbose=1, save_best_only=True, mode='max',save_weights_only=True)\n",
        "callbacks_list = [checkpoint,EarlyStopping(monitor='val_accuracy', mode='max', patience=5, verbose=1)]\n",
        "\n",
        "\n",
        "history5 = model5.fit(train_padded, training_labels, shuffle=True ,\n",
        "                    epochs=epochs, batch_size=batch_size, \n",
        "                    callbacks=callbacks_list,validation_data=(validation_padded, validation_labels))\n",
        "hist5=history5"
      ],
      "execution_count": null,
      "outputs": [
        {
          "output_type": "stream",
          "text": [
            "Model: \"sequential_16\"\n",
            "_________________________________________________________________\n",
            "Layer (type)                 Output Shape              Param #   \n",
            "=================================================================\n",
            "embedding_16 (Embedding)     (None, 200, 128)          6400000   \n",
            "_________________________________________________________________\n",
            "conv1d_10 (Conv1D)           (None, 200, 32)           12320     \n",
            "_________________________________________________________________\n",
            "max_pooling1d_5 (MaxPooling1 (None, 100, 32)           0         \n",
            "_________________________________________________________________\n",
            "bidirectional_5 (Bidirection (None, 256)               164864    \n",
            "_________________________________________________________________\n",
            "dense_16 (Dense)             (None, 5)                 1285      \n",
            "=================================================================\n",
            "Total params: 6,578,469\n",
            "Trainable params: 6,578,469\n",
            "Non-trainable params: 0\n",
            "_________________________________________________________________\n",
            "Epoch 1/100\n",
            "56/56 [==============================] - 16s 232ms/step - loss: 1.5235 - accuracy: 0.2695 - val_loss: 0.8928 - val_accuracy: 0.7371\n",
            "\n",
            "Epoch 00001: val_accuracy improved from -inf to 0.73708, saving model to weights_best_bi_lstms_n_cnn.hdf5\n",
            "Epoch 2/100\n",
            "56/56 [==============================] - 12s 218ms/step - loss: 0.4936 - accuracy: 0.8719 - val_loss: 0.3031 - val_accuracy: 0.9169\n",
            "\n",
            "Epoch 00002: val_accuracy improved from 0.73708 to 0.91685, saving model to weights_best_bi_lstms_n_cnn.hdf5\n",
            "Epoch 3/100\n",
            "56/56 [==============================] - 12s 220ms/step - loss: 0.1416 - accuracy: 0.9707 - val_loss: 0.4560 - val_accuracy: 0.8764\n",
            "\n",
            "Epoch 00003: val_accuracy did not improve from 0.91685\n",
            "Epoch 4/100\n",
            "56/56 [==============================] - 12s 218ms/step - loss: 0.1871 - accuracy: 0.9281 - val_loss: 0.4098 - val_accuracy: 0.9056\n",
            "\n",
            "Epoch 00004: val_accuracy did not improve from 0.91685\n",
            "Epoch 5/100\n",
            "56/56 [==============================] - 12s 220ms/step - loss: 0.1330 - accuracy: 0.9819 - val_loss: 0.3688 - val_accuracy: 0.9079\n",
            "\n",
            "Epoch 00005: val_accuracy did not improve from 0.91685\n",
            "Epoch 6/100\n",
            "56/56 [==============================] - 12s 218ms/step - loss: 0.0347 - accuracy: 0.9857 - val_loss: 0.3391 - val_accuracy: 0.9191\n",
            "\n",
            "Epoch 00006: val_accuracy improved from 0.91685 to 0.91910, saving model to weights_best_bi_lstms_n_cnn.hdf5\n",
            "Epoch 7/100\n",
            "56/56 [==============================] - 12s 219ms/step - loss: 0.0284 - accuracy: 0.9913 - val_loss: 0.2209 - val_accuracy: 0.9281\n",
            "\n",
            "Epoch 00007: val_accuracy improved from 0.91910 to 0.92809, saving model to weights_best_bi_lstms_n_cnn.hdf5\n",
            "Epoch 8/100\n",
            "56/56 [==============================] - 12s 222ms/step - loss: 0.0332 - accuracy: 0.9948 - val_loss: 0.1780 - val_accuracy: 0.9528\n",
            "\n",
            "Epoch 00008: val_accuracy improved from 0.92809 to 0.95281, saving model to weights_best_bi_lstms_n_cnn.hdf5\n",
            "Epoch 9/100\n",
            "56/56 [==============================] - 12s 222ms/step - loss: 0.0066 - accuracy: 1.0000 - val_loss: 0.1844 - val_accuracy: 0.9483\n",
            "\n",
            "Epoch 00009: val_accuracy did not improve from 0.95281\n",
            "Epoch 10/100\n",
            "56/56 [==============================] - 12s 221ms/step - loss: 0.0023 - accuracy: 1.0000 - val_loss: 0.2248 - val_accuracy: 0.9483\n",
            "\n",
            "Epoch 00010: val_accuracy did not improve from 0.95281\n",
            "Epoch 11/100\n",
            "56/56 [==============================] - 12s 221ms/step - loss: 0.0042 - accuracy: 0.9989 - val_loss: 0.1642 - val_accuracy: 0.9596\n",
            "\n",
            "Epoch 00011: val_accuracy improved from 0.95281 to 0.95955, saving model to weights_best_bi_lstms_n_cnn.hdf5\n",
            "Epoch 12/100\n",
            "56/56 [==============================] - 12s 220ms/step - loss: 0.0113 - accuracy: 0.9978 - val_loss: 0.2096 - val_accuracy: 0.9461\n",
            "\n",
            "Epoch 00012: val_accuracy did not improve from 0.95955\n",
            "Epoch 13/100\n",
            "56/56 [==============================] - 12s 219ms/step - loss: 0.0014 - accuracy: 1.0000 - val_loss: 0.2339 - val_accuracy: 0.9461\n",
            "\n",
            "Epoch 00013: val_accuracy did not improve from 0.95955\n",
            "Epoch 14/100\n",
            "56/56 [==============================] - 12s 218ms/step - loss: 9.0520e-04 - accuracy: 1.0000 - val_loss: 0.2218 - val_accuracy: 0.9483\n",
            "\n",
            "Epoch 00014: val_accuracy did not improve from 0.95955\n",
            "Epoch 15/100\n",
            "56/56 [==============================] - 12s 220ms/step - loss: 4.2553e-04 - accuracy: 1.0000 - val_loss: 0.2224 - val_accuracy: 0.9483\n",
            "\n",
            "Epoch 00015: val_accuracy did not improve from 0.95955\n",
            "Epoch 16/100\n",
            "56/56 [==============================] - 12s 218ms/step - loss: 3.1414e-04 - accuracy: 1.0000 - val_loss: 0.2256 - val_accuracy: 0.9506\n",
            "\n",
            "Epoch 00016: val_accuracy did not improve from 0.95955\n",
            "Epoch 00016: early stopping\n"
          ],
          "name": "stdout"
        }
      ]
    },
    {
      "cell_type": "code",
      "metadata": {
        "colab": {
          "base_uri": "https://localhost:8080/",
          "height": 826
        },
        "id": "shHjIppMhgAl",
        "outputId": "0518394f-687a-449c-bca5-1993a4dc46a7"
      },
      "source": [
        "plot_graphs(hist5),loss_graph(hist5),acc_graph(hist5)"
      ],
      "execution_count": null,
      "outputs": [
        {
          "output_type": "display_data",
          "data": {
            "image/png": "[encoded data removed]",
            "text/plain": [
              "<Figure size 432x288 with 1 Axes>"
            ]
          },
          "metadata": {
            "tags": [],
            "needs_background": "light"
          }
        },
        {
          "output_type": "display_data",
          "data": {
            "image/png": "[encoded data removed]",
            "text/plain": [
              "<Figure size 432x288 with 1 Axes>"
            ]
          },
          "metadata": {
            "tags": [],
            "needs_background": "light"
          }
        },
        {
          "output_type": "display_data",
          "data": {
            "image/png": "[encoded data removed]",
            "text/plain": [
              "<Figure size 432x288 with 1 Axes>"
            ]
          },
          "metadata": {
            "tags": [],
            "needs_background": "light"
          }
        },
        {
          "output_type": "execute_result",
          "data": {
            "text/plain": [
              "(None, None, None)"
            ]
          },
          "metadata": {
            "tags": []
          },
          "execution_count": 153
        }
      ]
    },
    {
      "cell_type": "code",
      "metadata": {
        "colab": {
          "base_uri": "https://localhost:8080/"
        },
        "id": "0QWnVBQrhgAm",
        "outputId": "44e2e7bf-5886-49dd-bfda-9220d2ea64f2"
      },
      "source": [
        "predicted = model5.predict(validation_padded)\n",
        "evaluate_preds(np.argmax(validation_labels, axis=1), np.argmax(predicted, axis=1))"
      ],
      "execution_count": null,
      "outputs": [
        {
          "output_type": "stream",
          "text": [
            "Acc: 95.06%\n",
            "Precision: 0.95\n",
            "Recall: 0.95\n",
            "F1 score: 0.95\n"
          ],
          "name": "stdout"
        },
        {
          "output_type": "execute_result",
          "data": {
            "text/plain": [
              "{'accuracy': 0.95, 'f1': 0.95, 'precision': 0.95, 'recall': 0.95}"
            ]
          },
          "metadata": {
            "tags": []
          },
          "execution_count": 154
        }
      ]
    },
    {
      "cell_type": "code",
      "metadata": {
        "id": "J9K8wp12sIo_"
      },
      "source": [
        ""
      ],
      "execution_count": null,
      "outputs": []
    },
    {
      "cell_type": "code",
      "metadata": {
        "id": "4DDYfS43sIt_"
      },
      "source": [
        ""
      ],
      "execution_count": null,
      "outputs": []
    },
    {
      "cell_type": "markdown",
      "metadata": {
        "id": "Z1b643hrzYIG"
      },
      "source": [
        "## Overall Evaluation of all Models"
      ]
    },
    {
      "cell_type": "code",
      "metadata": {
        "id": "Ta92LR4WGgwo"
      },
      "source": [
        ""
      ],
      "execution_count": null,
      "outputs": []
    },
    {
      "cell_type": "code",
      "metadata": {
        "colab": {
          "base_uri": "https://localhost:8080/"
        },
        "id": "8YUCYjXksLKa",
        "outputId": "293ed59e-d6ee-43c9-b593-9f1e56de0890"
      },
      "source": [
        "print(\"Final Performance Of All Models : \\n\")\n",
        "print(\"Model 1 - CNN-1D \\n\")\n",
        "mod1=model_eval(model,train_padded,training_labels,validation_padded,validation_labels)\n",
        "print(\"Model 2 - LSTM \\n\")\n",
        "mod2=model_eval(model2,train_padded,training_labels,validation_padded,validation_labels)\n",
        "print(\"Model 3 - Bidirectional LSTM \\n\")\n",
        "mod3=model_eval(model3,train_padded,training_labels,validation_padded,validation_labels)\n",
        "print(\"Model 4 - CNN-1D + LSTM \\n\")\n",
        "mod4=model_eval(model4,train_padded,training_labels,validation_padded,validation_labels)\n",
        "print(\"Model 5 - CNN-1D + Bidirectional LSTM \\n\")\n",
        "mod5=model_eval(model5,train_padded,training_labels,validation_padded,validation_labels)"
      ],
      "execution_count": null,
      "outputs": [
        {
          "output_type": "stream",
          "text": [
            "Final Performance Of All Models : \n",
            "\n",
            "Model 1 - CNN-1D \n",
            "\n",
            "\n",
            "\n",
            "Model Loss on training data  0.0061076246201992035\n",
            "Model Accuracy on training data:  1.0\n",
            "Model Loss on validation data 0.1820492148399353\n",
            "Model Accuracy on validation data:  0.9483146071434021\n",
            "\n",
            "\n",
            "Model 2 - LSTM \n",
            "\n",
            "\n",
            "\n",
            "Model Loss on training data  0.4365732669830322\n",
            "Model Accuracy on training data:  0.8162921071052551\n",
            "Model Loss on validation data 0.6999689936637878\n",
            "Model Accuracy on validation data:  0.7348314523696899\n",
            "\n",
            "\n",
            "Model 3 - Bidirectional LSTM \n",
            "\n",
            "\n",
            "\n",
            "Model Loss on training data  0.0007607854204252362\n",
            "Model Accuracy on training data:  1.0\n",
            "Model Loss on validation data 0.19389493763446808\n",
            "Model Accuracy on validation data:  0.9483146071434021\n",
            "\n",
            "\n",
            "Model 4 - CNN-1D + LSTM \n",
            "\n",
            "\n",
            "\n",
            "Model Loss on training data  0.08141876757144928\n",
            "Model Accuracy on training data:  0.9797753095626831\n",
            "Model Loss on validation data 0.7380450367927551\n",
            "Model Accuracy on validation data:  0.7910112142562866\n",
            "\n",
            "\n",
            "Model 5 - CNN-1D + Bidirectional LSTM \n",
            "\n",
            "\n",
            "\n",
            "Model Loss on training data  0.000280868262052536\n",
            "Model Accuracy on training data:  1.0\n",
            "Model Loss on validation data 0.22564689815044403\n",
            "Model Accuracy on validation data:  0.9505618214607239\n",
            "\n",
            "\n"
          ],
          "name": "stdout"
        }
      ]
    },
    {
      "cell_type": "code",
      "metadata": {
        "id": "1KVsBHOpGgz3",
        "colab": {
          "base_uri": "https://localhost:8080/"
        },
        "outputId": "00e92b18-c4ad-4cae-84d6-24dafd057bd8"
      },
      "source": [
        "\n",
        "\n",
        "table = PrettyTable()\n",
        "table.field_names = ['Model', 'Accuracy']\n",
        "table.add_row(['CNN-1D',round(mod1[1][1]*100,2)])\n",
        "table.add_row(['LSTM', round(mod2[1][1]*100,2)])\n",
        "table.add_row(['Bidirectional LSTM', round(mod3[1][1]*100,2)])\n",
        "table.add_row(['CNN-1D + LSTM', round(mod4[1][1]*100,2)])\n",
        "table.add_row(['CNN-1D + Bidirectional LSTM', round(mod5[1][1]*100,2)])\n",
        "print(table)"
      ],
      "execution_count": null,
      "outputs": [
        {
          "output_type": "stream",
          "text": [
            "+-----------------------------+----------+\n",
            "|            Model            | Accuracy |\n",
            "+-----------------------------+----------+\n",
            "|            CNN-1D           |  94.83   |\n",
            "|             LSTM            |  73.48   |\n",
            "|      Bidirectional LSTM     |  94.83   |\n",
            "|        CNN-1D + LSTM        |   79.1   |\n",
            "| CNN-1D + Bidirectional LSTM |  95.06   |\n",
            "+-----------------------------+----------+\n"
          ],
          "name": "stdout"
        }
      ]
    },
    {
      "cell_type": "markdown",
      "metadata": {
        "id": "loTSmgQVYXDs"
      },
      "source": [
        "#Link For References :\n",
        "\n",
        "1. https://ruder.io/deep-learning-nlp-best-practices/#:~:text=Optimization%20algorithm%20Adam%20(Kingma%20%26%20Ba,stochastic%20gradient%20descent%20(SGD).\n",
        "2. https://colah.github.io/posts/2015-08-Understanding-LSTMs/\n",
        "3. https://machinelearningmastery.com/sequence-classification-lstm-recurrent-neural-networks-python-keras/\n",
        "4. https://www.jeansnyman.com/posts/multi-class-text-classification-with-tensorflow/"
      ]
    },
    {
      "cell_type": "code",
      "metadata": {
        "id": "XRdQ_EVzw7po"
      },
      "source": [
        ""
      ],
      "execution_count": null,
      "outputs": []
    }
  ]
}